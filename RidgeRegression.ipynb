{
 "cells": [
  {
   "cell_type": "markdown",
   "metadata": {},
   "source": [
    "# 呼び出し方\n",
    "\n",
    "ridge = RidgeRegression(basis=phi, coef=0.0)\n",
    "\n",
    "ridge = RidgeRegression(basis_type=\"poly\", max_degree=3, coef=0.01)\n",
    "\n",
    "\n",
    "ridge_fit=ridge(X,Y)\n",
    "\n",
    "ridge_fit_predict=ridge_fit(X_0)"
   ]
  },
  {
   "cell_type": "code",
   "execution_count": 1,
   "metadata": {
    "collapsed": true
   },
   "outputs": [],
   "source": [
    "class MLmodel:\n",
    "    \n",
    "    def __init__(self):\n",
    "        return\n",
    "    \n",
    "    def fit(self, X, Y):\n",
    "        self.X=X\n",
    "        self.Y=Y\n",
    "        return\n",
    "    \n",
    "    def predict(self, X_new):\n",
    "        self.X_new=X_new\n",
    "        self.Y_predicted=None\n",
    "        return\n",
    "    \n",
    "    def plot(self,with_predicted_data=False):\n",
    "        \n",
    "        return"
   ]
  },
  {
   "cell_type": "code",
   "execution_count": null,
   "metadata": {
    "collapsed": true
   },
   "outputs": [],
   "source": []
  },
  {
   "cell_type": "code",
   "execution_count": 7,
   "metadata": {
    "collapsed": false
   },
   "outputs": [],
   "source": [
    "class RidgeRegression(MLmodel):\n",
    "    \n",
    "    def __init__(self, basis=None,  regular_coef=0.0):\n",
    "    "
   ]
  },
  {
   "cell_type": "code",
   "execution_count": null,
   "metadata": {
    "collapsed": true
   },
   "outputs": [],
   "source": []
  },
  {
   "cell_type": "code",
   "execution_count": null,
   "metadata": {
    "collapsed": false
   },
   "outputs": [],
   "source": [
    "from sklearn.preprocessing import PolynomialFeatures\n",
    "from sklearn import linear_model\n",
    "\n",
    "X = [[0.44, 0.68], [0.99, 0.23]]\n",
    "vector = [109.85, 155.72]\n",
    "predict= [0.49, 0.18]\n",
    "\n",
    "poly = PolynomialFeatures(degree=2)\n",
    "X_ = poly.fit_transform(X)\n",
    "predict_ = poly.fit_transform(predict)"
   ]
  },
  {
   "cell_type": "code",
   "execution_count": null,
   "metadata": {
    "collapsed": true
   },
   "outputs": [],
   "source": [
    ", basis=None, coef=None, basis_type=None, max_degree=None"
   ]
  },
  {
   "cell_type": "code",
   "execution_count": null,
   "metadata": {
    "collapsed": false
   },
   "outputs": [],
   "source": [
    "func1(3)"
   ]
  },
  {
   "cell_type": "markdown",
   "metadata": {},
   "source": [
    "# やること\n",
    "\n",
    "# 関数作成\n",
    "## データセット(X,t)を作る。\n",
    "## 基底関数$\\phi_0,...,\\phi_{M-1}$を作る。\n",
    "e.g. $\\phi_0(x)=1, \\phi_1(x)=x, \\phi_2(x)=x^2,\\ldots$\n",
    "## $\\Phi$を計算する\n",
    "## $w$を計算する\n",
    "\n",
    "# プロット\n",
    "1. $(X,t)$ をプロット\n",
    "2. $(X,Y_{predicted} =w \\phi(X))$をプロット\n",
    "\n",
    "# Cross-Validation\n",
    "\n",
    "## (X,t)をK分割する。\n",
    "## それぞれの分割kについて以下をやる。\n",
    "    ### k番目以外を使って関数を作る。\n",
    "    ### k番目を使って\n",
    "\n",
    "3.2乗誤差 $|\\omega \\phi(x)-t|^2$とRMS(Root mean squre) $\\sqrt{ \\sum_n |\\omega \\phi(x_n)-t_n|^2 /N_k}$を計算して評価."
   ]
  },
  {
   "cell_type": "code",
   "execution_count": null,
   "metadata": {
    "collapsed": false
   },
   "outputs": [],
   "source": [
    "%matplotlib inline\n",
    "import numpy as np\n",
    "from mpl_toolkits.mplot3d import Axes3D\n",
    "import matplotlib.pyplot as plt\n",
    "import time"
   ]
  },
  {
   "cell_type": "markdown",
   "metadata": {},
   "source": [
    "# データセット生成"
   ]
  },
  {
   "cell_type": "code",
   "execution_count": null,
   "metadata": {
    "collapsed": false
   },
   "outputs": [],
   "source": [
    "xy_min = -1\n",
    "xy_max = 1\n",
    "n_division = 10#100#10\n",
    "\n",
    "x = np.linspace(xy_min, xy_max, n_division+1)\n",
    "\n",
    "#Ｘは(n_division+1)^2個の点の集まり。\n",
    "#X[0]はx座標の集まり. X[1]はy座標の集まり。\n",
    "X=np.meshgrid(x,x)\n",
    "# t=np.sin(X[0])+3*np.cos(X[1])+X[0]*X[1]+np.sin(X[1])**2 *np.cos(X[0])*X[1]**(5)\n",
    "t=X[0]**6*X[1]**3\n",
    "\n",
    "num_data=X[0].size\n",
    "tuple_data_shape=X[0].shape"
   ]
  },
  {
   "cell_type": "code",
   "execution_count": null,
   "metadata": {
    "collapsed": false
   },
   "outputs": [],
   "source": [
    "#ノイズのあるデータの生成\n",
    "\n",
    "#正規分布にしたがうランダムノイズを生成する。最小二乗法の前提：誤差は正規分布\n",
    "standard_deviation =0.05; .1 #0.8 #0.1\n",
    "mean = .0\n",
    "normal_random_generator = np.random.normal\n",
    "\n",
    "t_noised=t+ normal_random_generator(mean, standard_deviation,tuple_data_shape)"
   ]
  },
  {
   "cell_type": "code",
   "execution_count": null,
   "metadata": {
    "collapsed": false
   },
   "outputs": [],
   "source": [
    "#ノイズの無し／有りデータの表示\n",
    "\n",
    "fig = plt.figure()\n",
    "ax = Axes3D(fig)\n",
    "ax.plot_wireframe(X[0],X[1],t) #<---ここでplot\n",
    "ax.scatter(X[0],X[1],t) #<---ここでplot\n",
    "\n",
    "ax.scatter(X[0],X[1],t_noised,color='cyan') #<---ここでplot\n",
    "ax.plot_wireframe(X[0],X[1],t_noised,color='cyan') #<---ここでplot"
   ]
  },
  {
   "cell_type": "code",
   "execution_count": null,
   "metadata": {
    "collapsed": false
   },
   "outputs": [],
   "source": [
    "#グリッドデータを点列データとする\n",
    "\n",
    "x_array=np.reshape(X[0],np.size(X[0]))\n",
    "y_array=np.reshape(X[1],np.size(X[1]))\n",
    "t_array=np.reshape(t,np.size(t))\n",
    "t_noised_array=np.reshape(t_noised,np.size(t))"
   ]
  },
  {
   "cell_type": "code",
   "execution_count": null,
   "metadata": {
    "collapsed": false
   },
   "outputs": [],
   "source": [
    "#点列データの表示（上と同様、wireframe は繋がる）\n",
    "\n",
    "fig = plt.figure()\n",
    "ax = Axes3D(fig)\n",
    "ax.scatter(x_array,y_array,t_array) #<---ここでplot"
   ]
  },
  {
   "cell_type": "markdown",
   "metadata": {},
   "source": [
    "# 基底関数の生成"
   ]
  },
  {
   "cell_type": "code",
   "execution_count": null,
   "metadata": {
    "collapsed": false
   },
   "outputs": [],
   "source": [
    "phi_00 =lambda a,b : np.ones(a.shape)\n",
    "phi_10 =lambda a,b : a\n",
    "phi_01 =lambda a,b : b\n",
    "phi_20 =lambda a,b : a**2\n",
    "phi_11 =lambda a,b : a*b\n",
    "phi_02 =lambda a,b : b**2\n",
    "phi_05 =lambda a,b : b**5\n",
    "phi_sin_x= lambda a,b: np.sin(a)\n",
    "phi_sin_y= lambda a,b: np.sin(b)\n",
    "phi_cos_x= lambda a,b: np.cos(a)\n",
    "phi_cos_y= lambda a,b: np.cos(b)\n",
    "phi_05_sin_y2_cos_x = lambda a,b:b**5* np.sin(a)**2 *np.cos(b)\n",
    "\n",
    "phi = [phi_00, phi_10,phi_01,phi_20,phi_11,phi_02]\n",
    "num_func=len(phi)"
   ]
  },
  {
   "cell_type": "markdown",
   "metadata": {},
   "source": [
    "## 基底関数の一般化\n",
    "\n",
    "def: get_basis_of_polynomials(max_degree)\n",
    "というような関数を作りたい。\n",
    "\n",
    "そのために\n",
    "def: get_polynomials_of_a_degree(degree)\n",
    "があればよさそう。\n",
    "\n",
    "\n",
    "get_polynomials_of_a_degree(degree)について考える。\n",
    "\n",
    "degree=iのとき i+1個の関数ができる。\n",
    "\n",
    "$\\phi(x,y)=x^{k} y^{i-k}$みたいなのがi+1個ある。\n",
    "\n",
    "k=0,...,iまで動かしていって$\\phi(x,y)=x^{k} y^{i-k}$をi+1個つくっていけばいい。\n",
    "\n",
    "まずは def: make_a_polynomial(a,b) -> $\\phi(x,y)=x^{a} y^{b}$ みたいな関数をつくればよい。\n",
    "\n",
    "make_a_polynominal(a,b)を呼び出す時に a = k、b = i-k とする for k=0,1,...,i for each i .\n",
    "\n",
    "-----------------------------------\n",
    "\n",
    "基底関数のリストphiにできた関数をどんどん足していけばいい。\n"
   ]
  },
  {
   "cell_type": "code",
   "execution_count": null,
   "metadata": {
    "collapsed": false
   },
   "outputs": [],
   "source": [
    "#Φ(x,y) = x^k*y^i-k　を生成\n",
    "\n",
    "def make_a_polynomial(a,b):\n",
    "#     def phi (x,y):\n",
    "#         return x**a*y**b;\n",
    "#     return phi\n",
    "    return lambda x,y: x**a*y**b"
   ]
  },
  {
   "cell_type": "code",
   "execution_count": null,
   "metadata": {
    "collapsed": true
   },
   "outputs": [],
   "source": [
    "#ある k でのΦを生成\n",
    "\n",
    "i=5\n",
    "def get_polynomials_of_a_degree(deg):\n",
    "    polynomials=[]\n",
    "    for k in xrange(0,deg+1):\n",
    "        ph=make_a_polynomial(deg-k,k)\n",
    "        polynomials.append(ph)\n",
    "    return polynomials\n"
   ]
  },
  {
   "cell_type": "code",
   "execution_count": null,
   "metadata": {
    "collapsed": false
   },
   "outputs": [],
   "source": [
    "#k=0,...,max_degree,まで動かし、Φ(x,y)=x^k*y^i-kをi+1個生成\n",
    "\n",
    "def get_polynomial_basis(max_degree):\n",
    "    polynomials=[]\n",
    "    for deg in xrange(0,max_degree+1):\n",
    "        deg_polys=get_polynomials_of_a_degree(deg)\n",
    "        for poly in deg_polys:\n",
    "            polynomials.append(poly)\n",
    "    return polynomials\n"
   ]
  },
  {
   "cell_type": "code",
   "execution_count": null,
   "metadata": {
    "collapsed": false,
    "scrolled": true
   },
   "outputs": [],
   "source": [
    "#基底関数の数の確認\n",
    "\n",
    "basis=get_polynomial_basis(5)\n",
    "for ph in basis:\n",
    "    print ph(2,1)\n",
    "print len (basis)\n",
    "\n",
    "num_polys=lambda max_deg: (1+(max_deg+1))/2.0 * (max_deg+1) \n",
    "print num_polys(5)"
   ]
  },
  {
   "cell_type": "code",
   "execution_count": null,
   "metadata": {
    "collapsed": false
   },
   "outputs": [],
   "source": [
    "## Φの生成\n",
    "\n",
    "poly_deg=20\n",
    "phi= get_polynomial_basis(poly_deg)\n",
    "num_func=len(phi)\n",
    "print num_func"
   ]
  },
  {
   "cell_type": "code",
   "execution_count": null,
   "metadata": {
    "collapsed": true
   },
   "outputs": [],
   "source": [
    "# 空き"
   ]
  },
  {
   "cell_type": "code",
   "execution_count": null,
   "metadata": {
    "collapsed": false
   },
   "outputs": [],
   "source": [
    "PHI = np.zeros((num_data, num_func))\n",
    "\n",
    "#関数Φ（行：サンプル数,列：基底関数の個数）の各要素に値を入れる\n",
    "for i,ph in enumerate(phi):\n",
    "    PHI[:,i] = np.reshape(ph(X[0],X[1]),num_data)"
   ]
  },
  {
   "cell_type": "markdown",
   "metadata": {},
   "source": [
    "## トレーニング（ノイズなし）"
   ]
  },
  {
   "cell_type": "code",
   "execution_count": null,
   "metadata": {
    "collapsed": false
   },
   "outputs": [],
   "source": [
    "#重みwを求める\n",
    "\n",
    "PHI_trans=np.transpose(PHI)\n",
    "\n",
    "\n",
    "w = np.linalg.inv(PHI_trans.dot(PHI)).dot(np.dot(PHI_trans, t_array))\n",
    "#np.linalg.inv 逆行列を求める \n",
    "#ws = np.linalg.solve( PHI_trans.dot(PHI), np.dot(PHI_trans, t_array))\n",
    "#solve:方程式の解\n",
    "print w\n",
    "#print ws"
   ]
  },
  {
   "cell_type": "markdown",
   "metadata": {},
   "source": [
    "## トレーニング（ノイズあり）"
   ]
  },
  {
   "cell_type": "code",
   "execution_count": null,
   "metadata": {
    "collapsed": false
   },
   "outputs": [],
   "source": [
    "PHI_trans=np.transpose(PHI)\n",
    "#np.transpose 転置\n",
    "\n",
    "\n",
    "identity=np.identity(len(PHI_trans.dot(PHI)))\n",
    "\n",
    "regularization_coef=1e-10#1e6#1e-10\n",
    "\n",
    "w_noise = np.linalg.inv(PHI_trans.dot(PHI)+regularization_coef*identity).dot(np.dot(PHI_trans, t_noised_array))\n",
    "#ws_noise = np.linalg.solve( PHI_trans.dot(PHI), np.dot(PHI_trans, t_noised_array))\n",
    "print w_noise\n",
    "#print ws_noise\n",
    "\n",
    "TargetMatrix=PHI_trans.dot(PHI)\n",
    "print TargetMatrix.shape\n",
    "print np.linalg.matrix_rank(PHI_trans.dot(PHI))\n",
    "\n",
    "print np.linalg.matrix_rank(PHI_trans.dot(PHI)+regularization_coef*identity)"
   ]
  },
  {
   "cell_type": "markdown",
   "metadata": {},
   "source": [
    "# 予測"
   ]
  },
  {
   "cell_type": "code",
   "execution_count": null,
   "metadata": {
    "collapsed": false
   },
   "outputs": [],
   "source": [
    "x_sample=(X[0][0,0],X[1][0,0])\n",
    "y_sample=sum ([ phi[i](*x_sample) for i in xrange(len(phi))])\n",
    "\n",
    "Y_predicted_array=PHI.dot(w)\n",
    "Y_predicted=Y_predicted_array.reshape(tuple_data_shape)\n",
    "\n",
    "Y_predicted_from_noise_array=PHI.dot(w_noise)\n",
    "Y_predicted_noise=Y_predicted_from_noise_array.reshape(tuple_data_shape)"
   ]
  },
  {
   "cell_type": "code",
   "execution_count": null,
   "metadata": {
    "collapsed": false
   },
   "outputs": [],
   "source": [
    "#予測データの表示\n",
    "#t:ground truth, t_noised:ground truth with noise generated from a normal distribution\n",
    "#Y_predicted:predicted values by a function trained using t\n",
    "#Y_predicted_noise:predicted values by a function trained using t_noised\n",
    "\n",
    "fig = plt.figure()\n",
    "ax = Axes3D(fig)\n",
    "\n",
    "ax.plot_wireframe(X[0],X[1],t)\n",
    "ax.scatter(X[0],X[1],t)\n",
    "\n",
    "# ax.scatter(X[0],X[1],t_noised,color='cyan')\n",
    "# ax.plot_wireframe(X[0],X[1],t_noised,color='cyan')\n",
    "\n",
    "# ax.scatter(X[0],X[1],Y_predicted,color='red')\n",
    "# ax.plot_wireframe(X[0],X[1],Y_predicted,color='red')\n",
    "\n",
    "ax.scatter(X[0],X[1],Y_predicted_noise,color='green')\n",
    "ax.plot_wireframe(X[0],X[1],Y_predicted_noise,color='green')"
   ]
  },
  {
   "cell_type": "code",
   "execution_count": null,
   "metadata": {
    "collapsed": true
   },
   "outputs": [],
   "source": []
  },
  {
   "cell_type": "code",
   "execution_count": null,
   "metadata": {
    "collapsed": false
   },
   "outputs": [],
   "source": []
  }
 ],
 "metadata": {
  "anaconda-cloud": {},
  "kernelspec": {
   "display_name": "Python [Root]",
   "language": "python",
   "name": "Python [Root]"
  },
  "language_info": {
   "codemirror_mode": {
    "name": "ipython",
    "version": 2
   },
   "file_extension": ".py",
   "mimetype": "text/x-python",
   "name": "python",
   "nbconvert_exporter": "python",
   "pygments_lexer": "ipython2",
   "version": "2.7.12"
  }
 },
 "nbformat": 4,
 "nbformat_minor": 0
}
