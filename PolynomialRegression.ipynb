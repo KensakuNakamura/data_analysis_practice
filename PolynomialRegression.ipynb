{
 "cells": [
  {
   "cell_type": "code",
   "execution_count": 1,
   "metadata": {
    "collapsed": true
   },
   "outputs": [],
   "source": [
    "import numpy as np\n",
    "from mpl_toolkits.mplot3d import Axes3D\n",
    "import matplotlib.pyplot as plt\n",
    "import time\n",
    "from MLmodel.RidgeRegression.RidgeRegression import RidgeRegression"
   ]
  },
  {
   "cell_type": "code",
   "execution_count": 4,
   "metadata": {
    "collapsed": true
   },
   "outputs": [],
   "source": [
    "class PolynomialRegression(RidgeRegression):\n",
    "    \n",
    "    def get_polynomial_basis(self, max_degree):\n",
    "        polynomials=[]\n",
    "        for deg in range(0,max_degree+1):\n",
    "            deg_polys=self.get_polynomials_of_a_degree(deg)\n",
    "            for poly in deg_polys:\n",
    "                polynomials.append(poly)\n",
    "        return polynomials\n",
    "    \n",
    "    def __init__(self, max_degree=1,regular_coef=0.0):\n",
    "        polynomial_basis=self.get_polynomial_basis(max_degree)\n",
    "        \n",
    "        RidgeRegression.__init__(self,polynomial_basis,regular_coef)\n",
    "        return  \n",
    "    \n",
    "    def get_polynomials_of_a_degree(self, deg):\n",
    "        polynomials=[]\n",
    "        for k in range(0,deg+1):\n",
    "            ph=self.make_a_polynomial(deg-k,k)\n",
    "            polynomials.append(ph)\n",
    "        return polynomials\n",
    "\n",
    "    def make_a_polynomial(self, a,b):\n",
    "    #     def phi (x,y):\n",
    "    #         return x**a*y**b;\n",
    "    #     return phi\n",
    "        return lambda x,y: x**a*y**b"
   ]
  }
 ],
 "metadata": {
  "anaconda-cloud": {},
  "kernelspec": {
   "display_name": "Python 3",
   "language": "python",
   "name": "python3"
  },
  "language_info": {
   "codemirror_mode": {
    "name": "ipython",
    "version": 3
   },
   "file_extension": ".py",
   "mimetype": "text/x-python",
   "name": "python",
   "nbconvert_exporter": "python",
   "pygments_lexer": "ipython3",
   "version": "3.5.3"
  }
 },
 "nbformat": 4,
 "nbformat_minor": 1
}
