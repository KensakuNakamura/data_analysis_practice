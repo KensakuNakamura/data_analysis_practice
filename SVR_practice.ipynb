{
 "cells": [
  {
   "cell_type": "code",
   "execution_count": 11,
   "metadata": {
    "collapsed": true
   },
   "outputs": [],
   "source": [
    "%matplotlib inline"
   ]
  },
  {
   "cell_type": "code",
   "execution_count": 12,
   "metadata": {
    "collapsed": true
   },
   "outputs": [],
   "source": [
    "import matplotlib.pyplot"
   ]
  },
  {
   "cell_type": "code",
   "execution_count": 31,
   "metadata": {
    "collapsed": false
   },
   "outputs": [
    {
     "data": {
      "text/plain": [
       "[<matplotlib.lines.Line2D at 0xb004240>]"
      ]
     },
     "execution_count": 31,
     "metadata": {},
     "output_type": "execute_result"
    },
    {
     "data": {
      "image/png": "[encoded data removed]",
      "text/plain": [
       "<matplotlib.figure.Figure at 0xb98c1d0>"
      ]
     },
     "metadata": {},
     "output_type": "display_data"
    }
   ],
   "source": [
    "x=[0,1]\n",
    "y=[0,1]\n",
    "\n",
    "matplotlib.pyplot.plot(x,y, \"o--\",markersize=100)"
   ]
  },
  {
   "cell_type": "code",
   "execution_count": 38,
   "metadata": {
    "collapsed": false
   },
   "outputs": [],
   "source": [
    "from __future__ import division #skip\n",
    "import time\n",
    "\n",
    "import numpy as npy\n",
    "\n",
    "from sklearn.svm import SVR #sklearn/svn directoryの中のclasses.pyファイルからSVRクラスをimportしている。\n",
    "#.svmのあとに.classesを付けても良い。\n",
    "from sklearn.model_selection import GridSearchCV\n",
    "from sklearn.model_selection import learning_curve\n",
    "from sklearn.kernel_ridge import KernelRidge\n",
    "import pylab as pl #pylabはmatplotlib.pyplotと同じ意味"
   ]
  },
  {
   "cell_type": "code",
   "execution_count": 77,
   "metadata": {
    "collapsed": false
   },
   "outputs": [],
   "source": [
    "random_generator=npy.random.RandomState(1) #randomクラスのオブジェクト。乱数生成期の初期化。0というseedで初期化。"
   ]
  },
  {
   "cell_type": "code",
   "execution_count": 78,
   "metadata": {
    "collapsed": false
   },
   "outputs": [
    {
     "name": "stdout",
     "output_type": "stream",
     "text": [
      "0.417022004703\n",
      "0.720324493442\n",
      "0.000114374817345\n",
      "0.302332572632\n",
      "0.146755890817\n",
      "0.0923385947688\n",
      "0.186260211378\n",
      "0.345560727043\n",
      "0.396767474231\n",
      "0.538816734003\n",
      "0.419194514403\n",
      "0.685219500397\n",
      "0.204452249732\n",
      "0.878117436391\n",
      "0.0273875931979\n",
      "0.670467510178\n",
      "0.417304802367\n",
      "0.558689828446\n",
      "0.140386938595\n",
      "0.198101489085\n",
      "0.800744568676\n",
      "0.968261575719\n",
      "0.313424178159\n",
      "0.692322615669\n",
      "0.876389152296\n",
      "0.894606663504\n",
      "0.0850442113698\n",
      "0.0390547832329\n",
      "0.169830419565\n",
      "0.878142503429\n",
      "0.0983468338331\n",
      "0.421107625005\n",
      "0.957889530151\n",
      "0.533165284973\n",
      "0.69187711395\n",
      "0.315515631006\n",
      "0.686500927682\n",
      "0.834625671897\n",
      "0.0182882773442\n",
      "0.750144314945\n",
      "0.988861088906\n",
      "0.74816565438\n",
      "0.280443992064\n",
      "0.789279328451\n",
      "0.103226006578\n",
      "0.447893526176\n",
      "0.908595503093\n",
      "0.293614148374\n",
      "0.287775338586\n",
      "0.130028572118\n",
      "0.0193669578703\n",
      "0.67883553294\n",
      "0.211628116\n",
      "0.265546659372\n",
      "0.49157315928\n",
      "0.0533625451171\n",
      "0.574117605492\n",
      "0.146728574906\n",
      "0.589305536903\n",
      "0.699758360021\n",
      "0.102334428828\n",
      "0.41405598782\n",
      "0.694400157728\n",
      "0.414179269527\n",
      "0.0499534589461\n",
      "0.535896405916\n",
      "0.66379464522\n",
      "0.514889112058\n",
      "0.944594755991\n",
      "0.586555040502\n",
      "0.903401915288\n",
      "0.137474704146\n",
      "0.139276347251\n",
      "0.80739128871\n",
      "0.397676836986\n",
      "0.165354197117\n",
      "0.927508580396\n",
      "0.347765859746\n",
      "0.750812103136\n",
      "0.72599798535\n",
      "0.883306091206\n",
      "0.623672207056\n",
      "0.750942434027\n",
      "0.348898341978\n",
      "0.269927891765\n",
      "0.895886218196\n",
      "0.428091189871\n",
      "0.964840047148\n",
      "0.663441497818\n",
      "0.621695720209\n",
      "0.114745972953\n",
      "0.949489258707\n",
      "0.44991213348\n",
      "0.578389614387\n",
      "0.408136802761\n",
      "0.237026980243\n",
      "0.903379520562\n",
      "0.573679486672\n",
      "0.00287032703116\n",
      "0.617144913621\n"
     ]
    }
   ],
   "source": [
    "for i in xrange(100): #0から99までの列\n",
    "    print random_generator.rand()"
   ]
  },
  {
   "cell_type": "code",
   "execution_count": null,
   "metadata": {
    "collapsed": true
   },
   "outputs": [],
   "source": []
  },
  {
   "cell_type": "code",
   "execution_count": null,
   "metadata": {
    "collapsed": true
   },
   "outputs": [],
   "source": []
  }
 ],
 "metadata": {
  "anaconda-cloud": {},
  "kernelspec": {
   "display_name": "Python [Root]",
   "language": "python",
   "name": "Python [Root]"
  },
  "language_info": {
   "codemirror_mode": {
    "name": "ipython",
    "version": 2
   },
   "file_extension": ".py",
   "mimetype": "text/x-python",
   "name": "python",
   "nbconvert_exporter": "python",
   "pygments_lexer": "ipython2",
   "version": "2.7.12"
  }
 },
 "nbformat": 4,
 "nbformat_minor": 0
}
