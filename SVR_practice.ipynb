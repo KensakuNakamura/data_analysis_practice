{
 "cells": [
  {
   "cell_type": "code",
   "execution_count": 2,
   "metadata": {
    "collapsed": true
   },
   "outputs": [],
   "source": [
    "%matplotlib inline"
   ]
  },
  {
   "cell_type": "code",
   "execution_count": 3,
   "metadata": {
    "collapsed": true
   },
   "outputs": [],
   "source": [
    "import matplotlib.pyplot"
   ]
  },
  {
   "cell_type": "code",
   "execution_count": 4,
   "metadata": {
    "collapsed": false
   },
   "outputs": [
    {
     "data": {
      "text/plain": [
       "[<matplotlib.lines.Line2D at 0x7264550>]"
      ]
     },
     "execution_count": 4,
     "metadata": {},
     "output_type": "execute_result"
    },
    {
     "data": {
      "image/png": "[encoded data removed]",
      "text/plain": [
       "<matplotlib.figure.Figure at 0x72725f8>"
      ]
     },
     "metadata": {},
     "output_type": "display_data"
    }
   ],
   "source": [
    "x=[0,1]\n",
    "y=[0,1]\n",
    "\n",
    "matplotlib.pyplot.plot(x,y, \"o--\",markersize=100)"
   ]
  },
  {
   "cell_type": "code",
   "execution_count": 5,
   "metadata": {
    "collapsed": false
   },
   "outputs": [],
   "source": [
    "from __future__ import division #skip\n",
    "import time\n",
    "\n",
    "import numpy as npy\n",
    "\n",
    "from sklearn.svm import SVR #sklearn/svn directoryの中のclasses.pyファイルからSVRクラスをimportしている。\n",
    "#.svmのあとに.classesを付けても良い。\n",
    "from sklearn.model_selection import GridSearchCV\n",
    "from sklearn.model_selection import learning_curve\n",
    "from sklearn.kernel_ridge import KernelRidge\n",
    "import pylab as pl #pylabはmatplotlib.pyplotと同じ意味"
   ]
  },
  {
   "cell_type": "code",
   "execution_count": 6,
   "metadata": {
    "collapsed": false
   },
   "outputs": [],
   "source": [
    "random_generator=npy.random.RandomState(1) #randomクラスのオブジェクト。乱数生成期の初期化。0というseedで初期化。"
   ]
  },
  {
   "cell_type": "code",
   "execution_count": 7,
   "metadata": {
    "collapsed": false
   },
   "outputs": [
    {
     "name": "stdout",
     "output_type": "stream",
     "text": [
      "0.417022004703\n"
     ]
    }
   ],
   "source": [
    "for i in xrange(1): #0から99までの列\n",
    "    print random_generator.rand()"
   ]
  },
  {
   "cell_type": "code",
   "execution_count": 8,
   "metadata": {
    "collapsed": false
   },
   "outputs": [
    {
     "name": "stdout",
     "output_type": "stream",
     "text": [
      "[[  3.60162247e+00]\n",
      " [  5.71874087e-04]\n",
      " [  1.51166286e+00]\n",
      " ..., \n",
      " [  5.40218282e-01]\n",
      " [  3.81396889e+00]\n",
      " [  3.82748480e+00]]\n",
      "[ -4.43974821e-01   5.71874056e-04   9.98252126e-01 ...,   5.14323201e-01\n",
      "  -6.22846776e-01  -6.33363657e-01]\n",
      "[-0.44397482  0.99825213  0.44546446 ..., -0.32567712  0.29329201\n",
      " -0.62284678]\n"
     ]
    }
   ],
   "source": [
    "#Generate sample data\n",
    "Num_of_data=10000\n",
    "divisor=5\n",
    "assert Num_of_data%divisor==0,\"Needs that Num_of_data%divisor==0\" #assertは中がfalseのときにエラーを出す。\n",
    "\n",
    "X=5*random_generator.rand(Num_of_data, 1)\n",
    "print X\n",
    "y=npy.sin(X).ravel() #ravel()を付けると行列がリストになる、numpyでは行列はリストの中にリストになると言える\n",
    "print(y)\n",
    "print(y[::2]) #syntax error 文法エラー #x::yではxからy個に一個値が出力される # x:: （y無し）ではy=1となる、::y（x無し）ではx=0となる\n",
    "#Add noise to tagets\n",
    "y[::divisor] += 3 * (0.5 - random_generator.rand(X.shape[0] // divisor)) \n",
    "#0.5 here behaves as the matrix with the same number of rows and columns as random_generator.rand(...).\n",
    "#X.shape=(num_of_rows,num_of_columns). Therefore, X.shape[1]=num_of_rows, \n",
    "# for int types a,b,  a//b =a%b as in C language. i.e. devision of two integers, but does not return the remainder.\n"
   ]
  },
  {
   "cell_type": "code",
   "execution_count": 64,
   "metadata": {
    "collapsed": false
   },
   "outputs": [],
   "source": [
    "X_plot = npy.linspace(0, 5, 100000)[:, None]\n",
    "#linspace(a,b,num) return a list[a,...,b] with num elements.\n",
    "#[:,None] converts a list to a matrix which is a column vector.\n"
   ]
  },
  {
   "cell_type": "code",
   "execution_count": null,
   "metadata": {
    "collapsed": false
   },
   "outputs": [],
   "source": []
  },
  {
   "cell_type": "code",
   "execution_count": 13,
   "metadata": {
    "collapsed": false
   },
   "outputs": [
    {
     "name": "stdout",
     "output_type": "stream",
     "text": [
      "[[ 0.09984507]\n",
      " [ 3.77431295]\n",
      " [ 4.41415994]\n",
      " ..., \n",
      " [ 1.86720143]\n",
      " [ 4.39405913]\n",
      " [ 3.33169344]]\n",
      "10000\n",
      "[ 0.09967926 -0.59134065 -0.95585835 ...,  0.95639268 -0.94975947\n",
      " -0.18895786]\n",
      "[ 0.09967926 -0.95585835  0.97768692 ...,  0.99618608  0.97194239\n",
      " -0.94975947]\n"
     ]
    }
   ],
   "source": [
    "#Generate sample data\n",
    "Num_of_data=10000\n",
    "divisor=5\n",
    "\n",
    "assert Num_of_data%divisor == 0, \"the remainder of Num of data divided by divisor must be zero\"\n",
    "\n",
    "\n",
    "\n",
    "X=divisor*random_generator.rand(Num_of_data, 1)\n",
    "print X\n",
    "print X.shape[0]\n",
    "y=npy.sin(X).ravel() #ravel()を付けると行列がリストになる、numpyでは行列はリストの中にリストになると言える\n",
    "print(y)\n",
    "print(y[::2]) #syntax error 文法エラー #x::yではxからy個に一個値が出力される # x:: （y無し）ではy=1となる、::y（x無し）ではx=0となる\n",
    "#Add noise to tagets\n",
    "y[::divisor] += 3 * (0.5 - random_generator.rand(X.shape[0] // divisor)) \n",
    "#0.5 here behaves as the matrix with the same number of rows and columns as random_generator.rand(...).\n",
    "#X.shape=(num_of_rows,num_of_columns). Therefore, X.shape[1]=num_of_rows, \n",
    "# for int types a,b,  a//b =a%b as in C language. i.e. devision of two integers, but does not return the remainder.\n"
   ]
  },
  {
   "cell_type": "code",
   "execution_count": 73,
   "metadata": {
    "collapsed": false
   },
   "outputs": [
    {
     "name": "stdout",
     "output_type": "stream",
     "text": [
      "SVR complexity and bandwith selected and model fitted in 1.377 s\n",
      "Support vector ratio: 0.400\n",
      "SVR prediction for 100000 inputs in 0.159 s\n",
      "SVR prediction for 100000 inputs in 0.106 s\n"
     ]
    }
   ],
   "source": [
    "#Fit regression model\n",
    "train_size = 100\n",
    "svr = GridSearchCV(SVR(kernel=\"rbf\", gamma=-0.1), cv=5,\n",
    "                    param_grid={\"C\": [1e0, 1e1, 1e2, 1e3], \n",
    "                                \"gamma\":npy.logspace(-2, 2, 5)}\n",
    "                  )\n",
    "\n",
    "\n",
    "\n",
    "\n",
    "t0=time.time()\n",
    "svr.fit(X[:train_size], y[:train_size])\n",
    "svr_fit_time=time.time()-t0\n",
    "print(\"SVR complexity and bandwith selected and model fitted in %.3f s\"\n",
    "     % svr_fit_time)\n",
    "\n",
    "sv_ratio=svr.best_estimator_.support_.shape[0] / train_size\n",
    "print(\"Support vector ratio: %.3f\" % sv_ratio)\n",
    "\n",
    "t0=time.time()\n",
    "y_svr=svr.predict(X_plot)\n",
    "svr_predict_time=time.time()-t0\n",
    "print(\"SVR prediction for %d inputs in %.3f s\"\n",
    "        %(X_plot.shape[0], svr_predict_time))\n",
    "\n",
    "\n",
    "t0=time.time()\n",
    "y_svr_best=svr.best_estimator_.predict(X_plot)\n",
    "svr_best_predict_time=time.time()-t0\n",
    "print(\"SVR prediction for %d inputs in %.3f s\"\n",
    "        %(X_plot.shape[0], svr_best_predict_time))"
   ]
  },
  {
   "cell_type": "code",
   "execution_count": null,
   "metadata": {
    "collapsed": true
   },
   "outputs": [],
   "source": []
  }
 ],
 "metadata": {
  "anaconda-cloud": {},
  "kernelspec": {
   "display_name": "Python [Root]",
   "language": "python",
   "name": "Python [Root]"
  },
  "language_info": {
   "codemirror_mode": {
    "name": "ipython",
    "version": 2
   },
   "file_extension": ".py",
   "mimetype": "text/x-python",
   "name": "python",
   "nbconvert_exporter": "python",
   "pygments_lexer": "ipython2",
   "version": "2.7.12"
  }
 },
 "nbformat": 4,
 "nbformat_minor": 0
}
