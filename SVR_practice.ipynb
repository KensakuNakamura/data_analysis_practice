{
 "cells": [
  {
   "cell_type": "code",
   "execution_count": 1,
   "metadata": {
    "collapsed": true
   },
   "outputs": [],
   "source": [
    "%matplotlib inline"
   ]
  },
  {
   "cell_type": "code",
   "execution_count": 5,
   "metadata": {
    "collapsed": true
   },
   "outputs": [],
   "source": [
    "import matplotlib.pyplot as plt"
   ]
  },
  {
   "cell_type": "code",
   "execution_count": 8,
   "metadata": {
    "collapsed": false
   },
   "outputs": [
    {
     "data": {
      "text/plain": [
       "[<matplotlib.lines.Line2D at 0x9749c88>]"
      ]
     },
     "execution_count": 8,
     "metadata": {},
     "output_type": "execute_result"
    },
    {
     "data": {
      "image/png": "[encoded data removed]",
      "text/plain": [
       "<matplotlib.figure.Figure at 0x95e0128>"
      ]
     },
     "metadata": {},
     "output_type": "display_data"
    }
   ],
   "source": [
    "x=[0,1]\n",
    "y=[0,1]\n",
    "\n",
    "plt.plot(x,y, \"o--\",markersize=100)"
   ]
  },
  {
   "cell_type": "code",
   "execution_count": 7,
   "metadata": {
    "collapsed": false
   },
   "outputs": [],
   "source": [
    "from __future__ import division #skip\n",
    "import time\n",
    "\n",
    "import numpy as npy\n",
    "\n",
    "from sklearn.svm import SVR #sklearn/svn directoryの中のclasses.pyファイルからSVRクラスをimportしている。\n",
    "#.svmのあとに.classesを付けても良い。\n",
    "from sklearn.model_selection import GridSearchCV\n",
    "from sklearn.model_selection import learning_curve\n",
    "from sklearn.kernel_ridge import KernelRidge\n",
    "import pylab as pl #pylabはmatplotlib.pyplotと同じ意味"
   ]
  },
  {
   "cell_type": "code",
   "execution_count": 9,
   "metadata": {
    "collapsed": false
   },
   "outputs": [],
   "source": [
    "random_generator=npy.random.RandomState(1) #randomクラスのオブジェクト。乱数生成期の初期化。0というseedで初期化。"
   ]
  },
  {
   "cell_type": "code",
   "execution_count": 10,
   "metadata": {
    "collapsed": false
   },
   "outputs": [
    {
     "name": "stdout",
     "output_type": "stream",
     "text": [
      "0.417022004703\n"
     ]
    }
   ],
   "source": [
    "for i in xrange(1): #0から99までの列\n",
    "    print random_generator.rand()"
   ]
  },
  {
   "cell_type": "code",
   "execution_count": 11,
   "metadata": {
    "collapsed": false
   },
   "outputs": [
    {
     "name": "stdout",
     "output_type": "stream",
     "text": [
      "[[  3.60162247e+00]\n",
      " [  5.71874087e-04]\n",
      " [  1.51166286e+00]\n",
      " ..., \n",
      " [  5.40218282e-01]\n",
      " [  3.81396889e+00]\n",
      " [  3.82748480e+00]]\n",
      "[ -4.43974821e-01   5.71874056e-04   9.98252126e-01 ...,   5.14323201e-01\n",
      "  -6.22846776e-01  -6.33363657e-01]\n",
      "[-0.44397482  0.99825213  0.44546446 ..., -0.32567712  0.29329201\n",
      " -0.62284678]\n"
     ]
    }
   ],
   "source": [
    "#Generate sample data\n",
    "Num_of_data=10000\n",
    "divisor=5\n",
    "assert Num_of_data%divisor==0,\"Needs that Num_of_data%divisor==0\" #assertは中がfalseのときにエラーを出す。\n",
    "\n",
    "X=5*random_generator.rand(Num_of_data, 1)\n",
    "print X\n",
    "y=npy.sin(X).ravel() #ravel()を付けると行列がリストになる、numpyでは行列はリストの中にリストになると言える\n",
    "print(y)\n",
    "print(y[::2]) #syntax error 文法エラー #x::yではxからy個に一個値が出力される # x:: （y無し）ではy=1となる、::y（x無し）ではx=0となる\n",
    "#Add noise to tagets\n",
    "y[::divisor] += 3 * (0.5 - random_generator.rand(X.shape[0] // divisor)) \n",
    "#0.5 here behaves as the matrix with the same number of rows and columns as random_generator.rand(...).\n",
    "#X.shape=(num_of_rows,num_of_columns). Therefore, X.shape[1]=num_of_rows, \n",
    "# for int types a,b,  a//b =a%b as in C language. i.e. devision of two integers, but does not return the remainder.\n"
   ]
  },
  {
   "cell_type": "code",
   "execution_count": 12,
   "metadata": {
    "collapsed": false
   },
   "outputs": [],
   "source": [
    "X_plot = npy.linspace(0, 5, 100000)[:, None]\n",
    "#linspace(a,b,num) return a list[a,...,b] with num elements.\n",
    "#[:,None] converts a list to a matrix which is a column vector."
   ]
  },
  {
   "cell_type": "code",
   "execution_count": null,
   "metadata": {
    "collapsed": false
   },
   "outputs": [],
   "source": []
  },
  {
   "cell_type": "code",
   "execution_count": 13,
   "metadata": {
    "collapsed": false
   },
   "outputs": [
    {
     "name": "stdout",
     "output_type": "stream",
     "text": [
      "[[ 2.90202915]\n",
      " [ 0.65114669]\n",
      " [ 1.31794453]\n",
      " ..., \n",
      " [ 1.06603718]\n",
      " [ 2.00588743]\n",
      " [ 1.32533482]]\n",
      "10000\n",
      "[ 0.23727862  0.60609887  0.96820294 ...,  0.87529098  0.90683165\n",
      "  0.97002528]\n",
      "[ 0.23727862  0.96820294  0.35834003 ...,  0.38994865 -0.99275443\n",
      "  0.90683165]\n"
     ]
    }
   ],
   "source": [
    "#Generate sample data\n",
    "Num_of_data=10000\n",
    "divisor=5\n",
    "\n",
    "assert Num_of_data%divisor == 0, \"the remainder of Num of data divided by divisor must be zero\"\n",
    "\n",
    "\n",
    "\n",
    "X=divisor*random_generator.rand(Num_of_data, 1)\n",
    "print X\n",
    "print X.shape[0]\n",
    "y=npy.sin(X).ravel() #ravel()を付けると行列がリストになる、numpyでは行列はリストの中にリストになると言える\n",
    "print(y)\n",
    "print(y[::2]) #syntax error 文法エラー #x::yではxからy個に一個値が出力される # x:: （y無し）ではy=1となる、::y（x無し）ではx=0となる\n",
    "#Add noise to tagets\n",
    "y[::divisor] += 3 * (0.5 - random_generator.rand(X.shape[0] // divisor)) \n",
    "#0.5 here behaves as the matrix with the same number of rows and columns as random_generator.rand(...).\n",
    "#X.shape=(num_of_rows,num_of_columns). Therefore, X.shape[1]=num_of_rows, \n",
    "# for int types a,b,  a//b =a/b as in C language. i.e. devision of two integers, but does not return the remainder.\n"
   ]
  },
  {
   "cell_type": "code",
   "execution_count": 14,
   "metadata": {
    "collapsed": false
   },
   "outputs": [
    {
     "name": "stdout",
     "output_type": "stream",
     "text": [
      "SVR complexity and bandwith selected and model fitted in 1.090 s\n",
      "Support vector ratio: 0.300\n",
      "SVR prediction for 100000 inputs in 0.072 s\n",
      "SVR prediction for 100000 inputs in 0.074 s\n"
     ]
    }
   ],
   "source": [
    "#Fit regression model\n",
    "train_size = 100 #準備したデータの内 100個を用いて回帰する\n",
    "svr = GridSearchCV(SVR(kernel=\"rbf\", gamma=-0.1), cv=5,\n",
    "                    param_grid={\"C\": [1e0, 1e1, 1e2, 1e3], \n",
    "                                \"gamma\":npy.logspace(-2, 2, 5)}, scoring=\"r2\")\n",
    "# gamma is \"Kernel coefficient\". In the case of rbf, it is in the exponential term.\n",
    "# Cで4パターン、gammaで5パターンの合計 20通りで SVR の学習・評価をする、各C, gammmaで5回クロスバリデーションする\n",
    "# \"scoring =\"で mertics を決定できる、何も書かない（デフォルト）だと、r2 になる\n",
    "\n",
    "t0=time.time()\n",
    "svr.fit(X[:train_size], y[:train_size])\n",
    "svr_fit_time=time.time()-t0\n",
    "print(\"SVR complexity and bandwith selected and model fitted in %.3f s\"\n",
    "     % svr_fit_time)\n",
    "\n",
    "#best_estimator_ は最も高いスコアのモデルの結果を出力する\n",
    "sv_ratio=svr.best_estimator_.support_.shape[0] / train_size \n",
    "print(\"Support vector ratio: %.3f\" % sv_ratio)\n",
    "\n",
    "t0=time.time()\n",
    "y_svr_besr=svr.best_estimator_.predict(X_plot) #predict は　最も高いスコアのモデル予測結果を出力する\n",
    "svr_predict_time=time.time()-t0\n",
    "print(\"SVR prediction for %d inputs in %.3f s\"\n",
    "        %(X_plot.shape[0], svr_predict_time))\n",
    "\n",
    "t0=time.time()\n",
    "y_svr=svr.predict(X_plot)\n",
    "svr_best_predict_time=time.time()-t0\n",
    "print(\"SVR prediction for %d inputs in %.3f s\"\n",
    "        %(X_plot.shape[0], svr_best_predict_time))"
   ]
  },
  {
   "cell_type": "code",
   "execution_count": 16,
   "metadata": {
    "collapsed": false
   },
   "outputs": [],
   "source": [
    "#svr.cv_results_ #svrの結果をまとめて表示"
   ]
  },
  {
   "cell_type": "code",
   "execution_count": 20,
   "metadata": {
    "collapsed": false
   },
   "outputs": [
    {
     "name": "stdout",
     "output_type": "stream",
     "text": [
      "[ 0  2  5  8 10 11 20 25 30 35 39 40 43 45 46 50 52 53 55 60 65 70 71 75 78\n",
      " 80 85 90 95 98]\n",
      "[ 0  2  5  8 10 11 20 25 30 35]\n"
     ]
    },
    {
     "data": {
      "text/plain": [
       "<matplotlib.legend.Legend at 0xaf7c7f0>"
      ]
     },
     "execution_count": 20,
     "metadata": {},
     "output_type": "execute_result"
    },
    {
     "data": {
      "image/png": "[encoded data removed]",
      "text/plain": [
       "<matplotlib.figure.Figure at 0xacb40f0>"
      ]
     },
     "metadata": {},
     "output_type": "display_data"
    }
   ],
   "source": [
    "sv_ind = svr.best_estimator_.support_\n",
    "print sv_ind #sv_ind は、support vectorに選ばれたデータの番号を示す\n",
    "print sv_ind[:10]\n",
    "plt.scatter(X[sv_ind], y[sv_ind], c=\"r\", s=50, label=\"SVR support vectors\", zorder=2)\n",
    "#this is as same as plt.plot(X[sv_ind], y[sv_ind], c=\"r\", marker='o',linestyle=\"none\",label=\"SVR support vectors\", zorder=2)\n",
    "#zorder の値が大きいグラフを手前に表示する\n",
    "\n",
    "# plt.scatter(X[[0,2,5,8,10,11,20,25,30,35,39,40,43,45,46,50,52,53,55,60,65,70,71,75,78\n",
    "# ,80,85,90,95,98]], y[[[0,2,5,8,10,11,20,25,30,35,39,40,43,45,46,50,52,53,55,60,65,70,71,75,78\n",
    "# ,80,85,90,95,98]]],c=\"k\", label=\"data\", zorder=2)\n",
    "\n",
    "plt.scatter(X[:100],y[:100],c=\"k\", label=\"data\", zorder=1)\n",
    "#plt.hold(\"on\") hold is \"on\" by default!!\n",
    "plt.plot(X_plot, y_svr, c=\"r\", label=\"SVR(fit: {0:.3f}s, predict: {1:.3f}s)\".format(svr_fit_time, svr_predict_time))\n",
    "#same as plt.plot(X_plot, y_svr, c='r',label='SVR (fit: %.3fs, predict: %.3fs)' % (svr_fit, svr_predict))\n",
    "plt.xlabel(\"data\")\n",
    "plt.ylabel(\"target\")\n",
    "plt.title(\"SVR versus Kernel Ridge\")\n",
    "plt.legend() #plt.legend()で凡例を表示\n",
    "\n",
    "#plt.show()でグラフを表示する"
   ]
  },
  {
   "cell_type": "code",
   "execution_count": 103,
   "metadata": {
    "collapsed": false
   },
   "outputs": [
    {
     "name": "stdout",
     "output_type": "stream",
     "text": [
      "[   10    31   100   316  1000  3162 10000]\n"
     ]
    },
    {
     "data": {
      "text/plain": [
       "<matplotlib.figure.Figure at 0xd917e48>"
      ]
     },
     "metadata": {},
     "output_type": "display_data"
    }
   ],
   "source": [
    "#visualize training and prediction time\n",
    "plt.figure()\n",
    "\n",
    "#Generate sample date\n",
    "Num_of_data=10000\n",
    "divisor=5\n",
    "assert Num_of_data%divisor==0, \"Num_of_data%divisor must be zero.\"\n",
    "\n",
    "X= 5 * random_generator.rand(Num_of_data, 1) #uniform distribution（一様分布に従う乱数） between 0 to \n",
    "y= npy.sin(X).ravel() #numpyの行列表現はリストの中にリスト、ravel()はnumpy行列をリストにする\n",
    "y[::5] += 3 * (0.5 - random_generator.rand(X.shape[0]//divisor))\n",
    "sizes = npy.logspace(1, 4, 7, dtype=npy.int)\n",
    "#logspace(start,stop,num=50,endpoint=True,base=10.0,dtype=None) \n",
    "#The actual start point is in fact base^start. Same for the end point.\n",
    "# dtype=int or dtype=np.int restricts the result to be int.\n",
    "# However, the resulting number greater than 2^31 is to be -2147483648=-2^31\n",
    "print sizes"
   ]
  },
  {
   "cell_type": "code",
   "execution_count": null,
   "metadata": {
    "collapsed": false
   },
   "outputs": [],
   "source": [
    "some_string=\"{:.5f}s\"\n",
    "print some_string\n",
    "formatted_string=some_string.format(1.23000000)\n",
    "print formatted_string"
   ]
  },
  {
   "cell_type": "code",
   "execution_count": null,
   "metadata": {
    "collapsed": false
   },
   "outputs": [],
   "source": [
    "sv_ind[0]"
   ]
  },
  {
   "cell_type": "code",
   "execution_count": null,
   "metadata": {
    "collapsed": false
   },
   "outputs": [],
   "source": [
    "print X[sv_ind[[0,1]]]\n",
    "print X[[0,2]]"
   ]
  },
  {
   "cell_type": "code",
   "execution_count": null,
   "metadata": {
    "collapsed": false
   },
   "outputs": [],
   "source": [
    "sv_ind[[0,2,5,8,10,11,20,25,30,35,39,40,43,45,46,50,52,53,55,60,65,70,71,75,78\n",
    ",80,85,90,95,98]]"
   ]
  },
  {
   "cell_type": "code",
   "execution_count": 29,
   "metadata": {
    "collapsed": false
   },
   "outputs": [
    {
     "data": {
      "text/plain": [
       "3333L"
      ]
     },
     "execution_count": 29,
     "metadata": {},
     "output_type": "execute_result"
    }
   ],
   "source": [
    "X.shape[0] // 3"
   ]
  },
  {
   "cell_type": "code",
   "execution_count": 102,
   "metadata": {
    "collapsed": false
   },
   "outputs": [
    {
     "data": {
      "text/plain": [
       "8589934592L"
      ]
     },
     "execution_count": 102,
     "metadata": {},
     "output_type": "execute_result"
    }
   ],
   "source": []
  },
  {
   "cell_type": "code",
   "execution_count": 73,
   "metadata": {
    "collapsed": false
   },
   "outputs": [
    {
     "name": "stdout",
     "output_type": "stream",
     "text": [
      "[-0.74898357 -1.01154114 -0.77155692 ...,  0.9296693   0.65362124\n",
      "  0.64694886]\n"
     ]
    }
   ],
   "source": [
    "print  3 * (0.5 - random_generator.rand(X.shape[0]//divisor))"
   ]
  },
  {
   "cell_type": "code",
   "execution_count": 79,
   "metadata": {
    "collapsed": false
   },
   "outputs": [
    {
     "data": {
      "text/plain": [
       "array([ 0,  5, 10, 15, 20, 25, 30, 35, 40, 45, 50, 55, 60, 65, 70, 75, 80,\n",
       "       85, 90, 95])"
      ]
     },
     "execution_count": 79,
     "metadata": {},
     "output_type": "execute_result"
    }
   ],
   "source": [
    "npy.arange(100)[::5]"
   ]
  },
  {
   "cell_type": "code",
   "execution_count": 114,
   "metadata": {
    "collapsed": true
   },
   "outputs": [],
   "source": [
    "fruits_color=[('apple','red'),('banana','yellow'),('grape','purple')]\n",
    "fruits_color_init=[('apple','red','a'),('banana','yellow','b'),('grape','purple','g')]"
   ]
  },
  {
   "cell_type": "code",
   "execution_count": 115,
   "metadata": {
    "collapsed": false
   },
   "outputs": [
    {
     "name": "stdout",
     "output_type": "stream",
     "text": [
      "('apple', 'red', 'a')\n",
      "('banana', 'yellow', 'b')\n",
      "('grape', 'purple', 'g')\n",
      "\n",
      "fruit is apple, and color is red\n",
      "fruit is banana, and color is yellow\n",
      "fruit is grape, and color is purple\n",
      "\n",
      "('apple', 'red', 'a')\n",
      "('banana', 'yellow', 'b')\n",
      "('grape', 'purple', 'g')\n",
      "\n",
      "fruit is apple, and color is red, and initial letter is a\n",
      "fruit is banana, and color is yellow, and initial letter is b\n",
      "fruit is grape, and color is purple, and initial letter is g\n"
     ]
    }
   ],
   "source": [
    "for fc in fruits_and_color:\n",
    "    print fc\n",
    "\n",
    "print\n",
    "\n",
    "for f,c in fruits_color:\n",
    "    print \"fruit is \"+f+\", and color is \"+c \n",
    "    \n",
    "print\n",
    "\n",
    "for fci in fruits_color_init:\n",
    "    print fci\n",
    "\n",
    "print\n",
    "\n",
    "\n",
    "for f,c,i in fruits_color_init:\n",
    "    print \"fruit is \"+f+\", and color is \"+c +', and initial letter is '+i"
   ]
  },
  {
   "cell_type": "code",
   "execution_count": 120,
   "metadata": {
    "collapsed": false
   },
   "outputs": [
    {
     "name": "stdout",
     "output_type": "stream",
     "text": [
      "{'KRR': KernelRidge(alpha=0.1, coef0=1, degree=3, gamma=10, kernel='rbf',\n",
      "      kernel_params=None), 'SVR': SVR(C=10.0, cache_size=200, coef0=0.0, degree=3, epsilon=0.1, gamma=10,\n",
      "  kernel='rbf', max_iter=-1, shrinking=True, tol=0.001, verbose=False)}\n",
      "\n",
      "[('KRR', KernelRidge(alpha=0.1, coef0=1, degree=3, gamma=10, kernel='rbf',\n",
      "      kernel_params=None)), ('SVR', SVR(C=10.0, cache_size=200, coef0=0.0, degree=3, epsilon=0.1, gamma=10,\n",
      "  kernel='rbf', max_iter=-1, shrinking=True, tol=0.001, verbose=False))]\n"
     ]
    }
   ],
   "source": [
    "print {\"KRR\": KernelRidge(kernel='rbf', alpha=0.1,\n",
    "                                           gamma=10),\n",
    "                        \"SVR\": SVR(kernel='rbf', C=1e1, gamma=10)}\n",
    "print\n",
    "print {\"KRR\": KernelRidge(kernel='rbf', alpha=0.1,\n",
    "                                           gamma=10),\n",
    "                        \"SVR\": SVR(kernel='rbf', C=1e1, gamma=10)}.items()"
   ]
  },
  {
   "cell_type": "code",
   "execution_count": null,
   "metadata": {
    "collapsed": true
   },
   "outputs": [],
   "source": []
  }
 ],
 "metadata": {
  "anaconda-cloud": {},
  "kernelspec": {
   "display_name": "Python [Root]",
   "language": "python",
   "name": "Python [Root]"
  },
  "language_info": {
   "codemirror_mode": {
    "name": "ipython",
    "version": 2
   },
   "file_extension": ".py",
   "mimetype": "text/x-python",
   "name": "python",
   "nbconvert_exporter": "python",
   "pygments_lexer": "ipython2",
   "version": "2.7.12"
  }
 },
 "nbformat": 4,
 "nbformat_minor": 0
}
