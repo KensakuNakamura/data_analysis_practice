{
 "cells": [
  {
   "cell_type": "code",
   "execution_count": 143,
   "metadata": {
    "collapsed": true
   },
   "outputs": [],
   "source": [
    "%matplotlib inline"
   ]
  },
  {
   "cell_type": "code",
   "execution_count": 144,
   "metadata": {
    "collapsed": true
   },
   "outputs": [],
   "source": [
    "import matplotlib.pyplot as plt"
   ]
  },
  {
   "cell_type": "code",
   "execution_count": 145,
   "metadata": {
    "collapsed": false
   },
   "outputs": [
    {
     "data": {
      "text/plain": [
       "[<matplotlib.lines.Line2D at 0x1ea14358>]"
      ]
     },
     "execution_count": 145,
     "metadata": {},
     "output_type": "execute_result"
    },
    {
     "data": {
      "image/png": "[encoded data removed]",
      "text/plain": [
       "<matplotlib.figure.Figure at 0x2d54f2b0>"
      ]
     },
     "metadata": {},
     "output_type": "display_data"
    }
   ],
   "source": [
    "x=[0,1]\n",
    "y=[0,1]\n",
    "\n",
    "plt.plot(x,y, \"o--\",markersize=100)"
   ]
  },
  {
   "cell_type": "code",
   "execution_count": 146,
   "metadata": {
    "collapsed": false
   },
   "outputs": [],
   "source": [
    "from __future__ import division #skip\n",
    "import time\n",
    "\n",
    "import numpy as npy\n",
    "\n",
    "from sklearn.svm import SVR #sklearn/svn directoryの中のclasses.pyファイルからSVRクラスをimportしている。\n",
    "#.svmのあとに.classesを付けても良い。\n",
    "from sklearn.model_selection import GridSearchCV\n",
    "from sklearn.model_selection import learning_curve\n",
    "from sklearn.kernel_ridge import KernelRidge\n",
    "import pylab as pl #pylabはmatplotlib.pyplotと同じ意味"
   ]
  },
  {
   "cell_type": "code",
   "execution_count": 147,
   "metadata": {
    "collapsed": false
   },
   "outputs": [],
   "source": [
    "random_generator=npy.random.RandomState(1) #randomクラスのオブジェクト。乱数生成期の初期化。0というseedで初期化。"
   ]
  },
  {
   "cell_type": "code",
   "execution_count": 148,
   "metadata": {
    "collapsed": false
   },
   "outputs": [
    {
     "name": "stdout",
     "output_type": "stream",
     "text": [
      "0.417022004703\n"
     ]
    }
   ],
   "source": [
    "for i in xrange(1): #0から99までの列\n",
    "    print random_generator.rand()"
   ]
  },
  {
   "cell_type": "code",
   "execution_count": 149,
   "metadata": {
    "collapsed": false
   },
   "outputs": [
    {
     "name": "stdout",
     "output_type": "stream",
     "text": [
      "[[  3.60162247e+00]\n",
      " [  5.71874087e-04]\n",
      " [  1.51166286e+00]\n",
      " ..., \n",
      " [  5.40218282e-01]\n",
      " [  3.81396889e+00]\n",
      " [  3.82748480e+00]]\n",
      "[ -4.43974821e-01   5.71874056e-04   9.98252126e-01 ...,   5.14323201e-01\n",
      "  -6.22846776e-01  -6.33363657e-01]\n",
      "[-0.44397482  0.99825213  0.44546446 ..., -0.32567712  0.29329201\n",
      " -0.62284678]\n"
     ]
    }
   ],
   "source": [
    "#Generate sample data\n",
    "Num_of_data=10000\n",
    "divisor=5\n",
    "assert Num_of_data%divisor==0,\"Needs that Num_of_data%divisor==0\" #assertは中がfalseのときにエラーを出す。\n",
    "\n",
    "X=5*random_generator.rand(Num_of_data, 1)\n",
    "print X\n",
    "y=npy.sin(X).ravel() #ravel()を付けると行列がリストになる、numpyでは行列はリストの中にリストになると言える\n",
    "print(y)\n",
    "print(y[::2]) #syntax error 文法エラー #x::yではxからy個に一個値が出力される # x:: （y無し）ではy=1となる、::y（x無し）ではx=0となる\n",
    "#Add noise to tagets\n",
    "y[::divisor] += 3 * (0.5 - random_generator.rand(X.shape[0] // divisor)) \n",
    "#0.5 here behaves as the matrix with the same number of rows and columns as random_generator.rand(...).\n",
    "#X.shape=(num_of_rows,num_of_columns). Therefore, X.shape[1]=num_of_rows, \n",
    "# for int types a,b,  a//b =a%b as in C language. i.e. devision of two integers, but does not return the remainder.\n"
   ]
  },
  {
   "cell_type": "code",
   "execution_count": 150,
   "metadata": {
    "collapsed": false
   },
   "outputs": [],
   "source": [
    "X_plot = npy.linspace(0, 5, 100000)[:, None]\n",
    "#linspace(a,b,num) return a list[a,...,b] with num elements.\n",
    "#[:,None] converts a list to a matrix which is a column vector."
   ]
  },
  {
   "cell_type": "code",
   "execution_count": null,
   "metadata": {
    "collapsed": false
   },
   "outputs": [],
   "source": []
  },
  {
   "cell_type": "code",
   "execution_count": 151,
   "metadata": {
    "collapsed": false
   },
   "outputs": [
    {
     "name": "stdout",
     "output_type": "stream",
     "text": [
      "[[ 2.90202915]\n",
      " [ 0.65114669]\n",
      " [ 1.31794453]\n",
      " ..., \n",
      " [ 1.06603718]\n",
      " [ 2.00588743]\n",
      " [ 1.32533482]]\n",
      "10000\n",
      "[ 0.23727862  0.60609887  0.96820294 ...,  0.87529098  0.90683165\n",
      "  0.97002528]\n",
      "[ 0.23727862  0.96820294  0.35834003 ...,  0.38994865 -0.99275443\n",
      "  0.90683165]\n"
     ]
    }
   ],
   "source": [
    "#Generate sample data\n",
    "Num_of_data=10000\n",
    "divisor=5\n",
    "\n",
    "assert Num_of_data%divisor == 0, \"the remainder of Num of data divided by divisor must be zero\"\n",
    "\n",
    "\n",
    "\n",
    "X=divisor*random_generator.rand(Num_of_data, 1)\n",
    "print X\n",
    "print X.shape[0]\n",
    "y=npy.sin(X).ravel() #ravel()を付けると行列がリストになる、numpyでは行列はリストの中にリストになると言える\n",
    "print(y)\n",
    "print(y[::2]) #syntax error 文法エラー #x::yではxからy個に一個値が出力される # x:: （y無し）ではy=1となる、::y（x無し）ではx=0となる\n",
    "#Add noise to tagets\n",
    "y[::divisor] += 3 * (0.5 - random_generator.rand(X.shape[0] // divisor)) \n",
    "#0.5 here behaves as the matrix with the same number of rows and columns as random_generator.rand(...).\n",
    "#X.shape=(num_of_rows,num_of_columns). Therefore, X.shape[1]=num_of_rows, \n",
    "# for int types a,b,  a//b =a/b as in C language. i.e. devision of two integers, but does not return the remainder.\n"
   ]
  },
  {
   "cell_type": "code",
   "execution_count": 152,
   "metadata": {
    "collapsed": false
   },
   "outputs": [
    {
     "name": "stdout",
     "output_type": "stream",
     "text": [
      "SVR complexity and bandwith selected and model fitted in 1.184 s\n",
      "Support vector ratio: 0.300\n",
      "SVR prediction for 100000 inputs in 0.124 s\n",
      "SVR prediction for 100000 inputs in 0.063 s\n"
     ]
    }
   ],
   "source": [
    "#Fit regression model\n",
    "train_size = 100 #準備したデータの内 100個を用いて回帰する\n",
    "svr = GridSearchCV(SVR(kernel=\"rbf\", gamma=-0.1), cv=5,\n",
    "                    param_grid={\"C\": [1e0, 1e1, 1e2, 1e3], \n",
    "                                \"gamma\":npy.logspace(-2, 2, 5)}, scoring=\"r2\")\n",
    "# gamma is \"Kernel coefficient\". In the case of rbf, it is in the exponential term.\n",
    "# Cで4パターン、gammaで5パターンの合計 20通りで SVR の学習・評価をする、各C, gammmaで5回クロスバリデーションする\n",
    "# \"scoring =\"で mertics を決定できる、何も書かない（デフォルト）だと、r2 になる\n",
    "\n",
    "t0=time.time()\n",
    "svr.fit(X[:train_size], y[:train_size])\n",
    "svr_fit_time=time.time()-t0\n",
    "print(\"SVR complexity and bandwith selected and model fitted in %.3f s\"\n",
    "     % svr_fit_time)\n",
    "\n",
    "#best_estimator_ は最も高いスコアのモデルの結果を出力する\n",
    "sv_ratio=svr.best_estimator_.support_.shape[0] / train_size \n",
    "print(\"Support vector ratio: %.3f\" % sv_ratio)\n",
    "\n",
    "t0=time.time()\n",
    "y_svr_besr=svr.best_estimator_.predict(X_plot) #predict は　最も高いスコアのモデル予測結果を出力する\n",
    "svr_predict_time=time.time()-t0\n",
    "print(\"SVR prediction for %d inputs in %.3f s\"\n",
    "        %(X_plot.shape[0], svr_predict_time))\n",
    "\n",
    "t0=time.time()\n",
    "y_svr=svr.predict(X_plot)\n",
    "svr_best_predict_time=time.time()-t0\n",
    "print(\"SVR prediction for %d inputs in %.3f s\"\n",
    "        %(X_plot.shape[0], svr_best_predict_time))"
   ]
  },
  {
   "cell_type": "code",
   "execution_count": 153,
   "metadata": {
    "collapsed": false
   },
   "outputs": [],
   "source": [
    "#svr.cv_results_ #svrの結果をまとめて表示"
   ]
  },
  {
   "cell_type": "code",
   "execution_count": 154,
   "metadata": {
    "collapsed": false
   },
   "outputs": [
    {
     "name": "stdout",
     "output_type": "stream",
     "text": [
      "[ 0  2  5  8 10 11 20 25 30 35 39 40 43 45 46 50 52 53 55 60 65 70 71 75 78\n",
      " 80 85 90 95 98]\n",
      "[ 0  2  5  8 10 11 20 25 30 35]\n"
     ]
    },
    {
     "data": {
      "text/plain": [
       "<matplotlib.legend.Legend at 0x2600af60>"
      ]
     },
     "execution_count": 154,
     "metadata": {},
     "output_type": "execute_result"
    },
    {
     "data": {
      "image/png": "[encoded data removed]",
      "text/plain": [
       "<matplotlib.figure.Figure at 0x243f8a20>"
      ]
     },
     "metadata": {},
     "output_type": "display_data"
    }
   ],
   "source": [
    "sv_ind = svr.best_estimator_.support_\n",
    "print sv_ind #sv_ind は、support vectorに選ばれたデータの番号を示す\n",
    "print sv_ind[:10]\n",
    "plt.scatter(X[sv_ind], y[sv_ind], c=\"r\", s=50, label=\"SVR support vectors\", zorder=2)\n",
    "#this is as same as plt.plot(X[sv_ind], y[sv_ind], c=\"r\", marker='o',linestyle=\"none\",label=\"SVR support vectors\", zorder=2)\n",
    "#zorder の値が大きいグラフを手前に表示する\n",
    "\n",
    "# plt.scatter(X[[0,2,5,8,10,11,20,25,30,35,39,40,43,45,46,50,52,53,55,60,65,70,71,75,78\n",
    "# ,80,85,90,95,98]], y[[[0,2,5,8,10,11,20,25,30,35,39,40,43,45,46,50,52,53,55,60,65,70,71,75,78\n",
    "# ,80,85,90,95,98]]],c=\"k\", label=\"data\", zorder=2)\n",
    "\n",
    "plt.scatter(X[:100],y[:100],c=\"k\", label=\"data\", zorder=1)\n",
    "#plt.hold(\"on\") hold is \"on\" by default!!\n",
    "plt.plot(X_plot, y_svr, c=\"r\", label=\"SVR(fit: {0:.3f}s, predict: {1:.3f}s)\".format(svr_fit_time, svr_predict_time))\n",
    "#same as plt.plot(X_plot, y_svr, c='r',label='SVR (fit: %.3fs, predict: %.3fs)' % (svr_fit, svr_predict))\n",
    "plt.xlabel(\"data\")\n",
    "plt.ylabel(\"target\")\n",
    "plt.title(\"SVR versus Kernel Ridge\")\n",
    "plt.legend() #plt.legend()で凡例を表示\n",
    "\n",
    "#plt.show()でグラフを表示する"
   ]
  },
  {
   "cell_type": "code",
   "execution_count": 155,
   "metadata": {
    "collapsed": false
   },
   "outputs": [
    {
     "name": "stdout",
     "output_type": "stream",
     "text": [
      "[   10    31   100   316  1000  3162 10000]\n"
     ]
    },
    {
     "data": {
      "text/plain": [
       "<matplotlib.legend.Legend at 0x23bfec88>"
      ]
     },
     "execution_count": 155,
     "metadata": {},
     "output_type": "execute_result"
    },
    {
     "data": {
      "image/png": "[encoded data removed]",
      "text/plain": [
       "<matplotlib.figure.Figure at 0x25bd2fd0>"
      ]
     },
     "metadata": {},
     "output_type": "display_data"
    }
   ],
   "source": [
    "#visualize training and prediction time\n",
    "plt.figure()\n",
    "\n",
    "#Generate sample date\n",
    "data_scale=4\n",
    "Num_of_data=10**data_scale\n",
    "divisor=5\n",
    "assert Num_of_data%divisor==0, \"Num_of_data%divisor must be zero.\"\n",
    "\n",
    "X= 5 * random_generator.rand(Num_of_data, 1) #uniform distribution（一様分布に従う乱数） between 0 to \n",
    "y= npy.sin(X).ravel() #numpyの行列表現はリストの中にリスト、ravel()はnumpy行列をリストにする\n",
    "y[::5] += 3 * (0.5 - random_generator.rand(X.shape[0]//divisor))\n",
    "sizes = npy.logspace(1, data_scale, 7, dtype=npy.int)\n",
    "#logspace(start,stop,num=50,endpoint=True,base=10.0,dtype=None) \n",
    "#The actual start point is in fact base^start. Same for the end point.\n",
    "# dtype=int or dtype=np.int restricts the result to be int.\n",
    "# However, the resulting number greater than 2^31 is to be -2147483648=-2^31\n",
    "print sizes\n",
    "\n",
    "for name, estimator in {\"KRR\":KernelRidge(kernel=\"rbf\", alpha=0.1, \n",
    "                        gamma=10),\"SVR\":SVR(kernel=\"rbf\", C=1e1, gamma=10)}.items():#items() makes a dictionary to be a list of tuples.\n",
    "        train_time=[]\n",
    "        test_time=[]\n",
    "        for train_test_size in sizes:\n",
    "            t0=time.time()\n",
    "            estimator.fit(X[:train_test_size], y[:train_test_size])\n",
    "            train_time.append(time.time()-t0)\n",
    "            \n",
    "            t0 = time.time()\n",
    "            estimator.predict(X_plot[:1000])\n",
    "            test_time.append(time.time()-t0)\n",
    "            \n",
    "        plt.plot(sizes, train_time, \"o-\", color =\"r\"if name ==\"SVR\"else \"g\", label=\"%s(train)\" %name)\n",
    "        plt.plot(sizes, test_time, \"o-\", color =\"r\"if name ==\"SVR\"else \"g\", label=\"%s(train)\" %name)\n",
    "        \n",
    "plt.xscale(\"log\")\n",
    "plt.yscale(\"log\")\n",
    "plt.xlabel(\"Train size\")\n",
    "plt.ylabel(\"Time (second)\")\n",
    "plt.title(\"Execution Time\")\n",
    "plt.legend(loc=\"best\")"
   ]
  },
  {
   "cell_type": "code",
   "execution_count": 156,
   "metadata": {
    "collapsed": false
   },
   "outputs": [
    {
     "data": {
      "image/png": "[encoded data removed]",
      "text/plain": [
       "<matplotlib.figure.Figure at 0x1f745b70>"
      ]
     },
     "metadata": {},
     "output_type": "display_data"
    }
   ],
   "source": [
    "#Visualize learning curves\n",
    "plt.figure()\n",
    "\n",
    "svr2=SVR(kernel=\"rbf\", C=1e1, gamma=0.1)\n",
    "kr= KernelRidge(kernel=\"rbf\", alpha = 0.1, gamma=0.1)\n",
    "#train_sizes, train_scores_svr, test_scores_svr = \\\n",
    "    #learning_curve(svr, X[:100], y[:100], train_sizes=npy.linspace(0.1, 1, 10), scoring=\"neg_mean_squared_error\", cv=10)\n",
    "    # \\ の後には記載しない\n",
    "    #scoring method \"mean_squared_error\" does not exist anymore. We have to use \"neg\" version instead. \n",
    "train_sizes_abs, train_scores_kr, test_scores_kr =\\\n",
    "    learning_curve(kr, X[:100:], y[:100], train_sizes=[(x+1.0)/80.0 for x in npy.arange(80)], scoring=\"neg_mean_squared_error\", cv=10)\n",
    "    \n",
    "#plt.plot(train_sizes, -test_scores_svr.mean(1), \"o-\", color=\"r\", label=\"SVR\")\n",
    "plt.plot(train_sizes_abs, -test_scores_kr.mean(1), \"o-\", color=\"g\", label=\"KRR\")\n",
    "\n",
    "#test_scores_kr is a \"train_sizes\" x \"cv\" matrix.\n",
    "#test_scores_kr.mean(0) returns the set of the average of each column. i.e. each cv chunk.\n",
    "#test_scores_kr.mean(1) returns the set of the average of each row. i.e. each train_size.\n",
    "#test_scores_kr.mean(2) returns of course error.\n",
    "\n",
    "\n",
    "plt.xlabel(\"Train size\")\n",
    "plt.ylabel(\"Mean Squared Error\")\n",
    "plt.title(\"Learning curves\")\n",
    "plt.legend(loc=\"best\")\n",
    "\n",
    "plt.show()\n",
    "\n",
    "\n"
   ]
  },
  {
   "cell_type": "code",
   "execution_count": 157,
   "metadata": {
    "collapsed": false
   },
   "outputs": [
    {
     "name": "stdout",
     "output_type": "stream",
     "text": [
      "{:.5f}s\n",
      "1.23000s\n"
     ]
    }
   ],
   "source": [
    "some_string=\"{:.5f}s\"\n",
    "print some_string\n",
    "formatted_string=some_string.format(1.23000000)\n",
    "print formatted_string"
   ]
  },
  {
   "cell_type": "code",
   "execution_count": 158,
   "metadata": {
    "collapsed": false
   },
   "outputs": [
    {
     "data": {
      "text/plain": [
       "0"
      ]
     },
     "execution_count": 158,
     "metadata": {},
     "output_type": "execute_result"
    }
   ],
   "source": [
    "sv_ind[0]"
   ]
  },
  {
   "cell_type": "code",
   "execution_count": 159,
   "metadata": {
    "collapsed": false
   },
   "outputs": [
    {
     "name": "stdout",
     "output_type": "stream",
     "text": [
      "[[ 0.80549719]\n",
      " [ 0.30258423]]\n",
      "[[ 0.80549719]\n",
      " [ 0.30258423]]\n"
     ]
    }
   ],
   "source": [
    "print X[sv_ind[[0,1]]]\n",
    "print X[[0,2]]"
   ]
  },
  {
   "cell_type": "code",
   "execution_count": 160,
   "metadata": {
    "collapsed": false
   },
   "outputs": [
    {
     "ename": "IndexError",
     "evalue": "index 30 is out of bounds for axis 0 with size 30",
     "output_type": "error",
     "traceback": [
      "\u001b[1;31m---------------------------------------------------------------------------\u001b[0m",
      "\u001b[1;31mIndexError\u001b[0m                                Traceback (most recent call last)",
      "\u001b[1;32m<ipython-input-160-1310e509993d>\u001b[0m in \u001b[0;36m<module>\u001b[1;34m()\u001b[0m\n\u001b[0;32m      1\u001b[0m sv_ind[[0,2,5,8,10,11,20,25,30,35,39,40,43,45,46,50,52,53,55,60,65,70,71,75,78\n\u001b[1;32m----> 2\u001b[1;33m ,80,85,90,95,98]]\n\u001b[0m",
      "\u001b[1;31mIndexError\u001b[0m: index 30 is out of bounds for axis 0 with size 30"
     ]
    }
   ],
   "source": [
    "sv_ind[[0,2,5,8,10,11,20,25,30,35,39,40,43,45,46,50,52,53,55,60,65,70,71,75,78\n",
    ",80,85,90,95,98]]"
   ]
  },
  {
   "cell_type": "code",
   "execution_count": null,
   "metadata": {
    "collapsed": false
   },
   "outputs": [],
   "source": [
    "X.shape[0] // 3"
   ]
  },
  {
   "cell_type": "code",
   "execution_count": null,
   "metadata": {
    "collapsed": false
   },
   "outputs": [],
   "source": []
  },
  {
   "cell_type": "code",
   "execution_count": null,
   "metadata": {
    "collapsed": false
   },
   "outputs": [],
   "source": [
    "print  3 * (0.5 - random_generator.rand(X.shape[0]//divisor))"
   ]
  },
  {
   "cell_type": "code",
   "execution_count": null,
   "metadata": {
    "collapsed": false
   },
   "outputs": [],
   "source": [
    "npy.arange(100)[::5]"
   ]
  },
  {
   "cell_type": "code",
   "execution_count": null,
   "metadata": {
    "collapsed": true
   },
   "outputs": [],
   "source": [
    "fruits_color=[('apple','red'),('banana','yellow'),('grape','purple')]\n",
    "fruits_color_init=[('apple','red','a'),('banana','yellow','b'),('grape','purple','g')]"
   ]
  },
  {
   "cell_type": "code",
   "execution_count": null,
   "metadata": {
    "collapsed": false
   },
   "outputs": [],
   "source": [
    "for fc in fruits_and_color:\n",
    "    print fc\n",
    "\n",
    "print\n",
    "\n",
    "for f,c in fruits_color:\n",
    "    print \"fruit is \"+f+\", and color is \"+c \n",
    "    \n",
    "print\n",
    "\n",
    "for fci in fruits_color_init:\n",
    "    print fci\n",
    "\n",
    "print\n",
    "\n",
    "\n",
    "for f,c,i in fruits_color_init:\n",
    "    print \"fruit is \"+f+\", and color is \"+c +', and initial letter is '+i"
   ]
  },
  {
   "cell_type": "code",
   "execution_count": null,
   "metadata": {
    "collapsed": false
   },
   "outputs": [],
   "source": [
    "fruits_color={'apple':1,'banana':2,'grape':3}.items()"
   ]
  },
  {
   "cell_type": "code",
   "execution_count": null,
   "metadata": {
    "collapsed": false
   },
   "outputs": [],
   "source": [
    "for color, value in fruits_color:\n",
    "    print \"color is \"+color+\", value is \"+str(value) "
   ]
  },
  {
   "cell_type": "code",
   "execution_count": null,
   "metadata": {
    "collapsed": false
   },
   "outputs": [],
   "source": [
    "print {\"KRR\": KernelRidge(kernel='rbf', alpha=0.1,\n",
    "                                           gamma=10),\n",
    "                        \"SVR\": SVR(kernel='rbf', C=1e1, gamma=10)}\n",
    "print\n",
    "print {\"KRR\": KernelRidge(kernel='rbf', alpha=0.1,\n",
    "                                           gamma=10),\n",
    "                        \"SVR\": SVR(kernel='rbf', C=1e1, gamma=10)}.items()"
   ]
  },
  {
   "cell_type": "code",
   "execution_count": null,
   "metadata": {
    "collapsed": false
   },
   "outputs": [],
   "source": [
    "test_time=[]\n",
    "\n",
    "t0= time.time()\n",
    "print(t0)"
   ]
  },
  {
   "cell_type": "code",
   "execution_count": null,
   "metadata": {
    "collapsed": false
   },
   "outputs": [],
   "source": [
    "t1=time.time()\n",
    "test_time.append(time.time()-t0)\n",
    "print(t1)\n",
    "print(test_time)"
   ]
  },
  {
   "cell_type": "code",
   "execution_count": null,
   "metadata": {
    "collapsed": false
   },
   "outputs": [],
   "source": [
    "numbers=[1,2,3,4,5,6,7,8,9,10]\n",
    "for num in numbers:\n",
    "        \n",
    "    int_type=\"odd\" if num%2!=0 else \"even\"#in C++, int_type= (num%2!=0)? \"odd\" : \"even\";\n",
    "    print str(num)+\"type:\"+int_type"
   ]
  },
  {
   "cell_type": "code",
   "execution_count": null,
   "metadata": {
    "collapsed": true
   },
   "outputs": [],
   "source": [
    "def multiple_return_value():\n",
    "    return 0,1,{2:\"abc\"}"
   ]
  },
  {
   "cell_type": "code",
   "execution_count": null,
   "metadata": {
    "collapsed": false
   },
   "outputs": [],
   "source": [
    "results= multiple_return_value()\n",
    "result1,result2,result3=multiple_return_value()\n",
    "\n",
    "print \"results:\"+str(results)\n",
    "print \"result1:\"+str(result1)+\", result2:\"+str(result2)+\", result3:\"+str(result3)"
   ]
  },
  {
   "cell_type": "code",
   "execution_count": null,
   "metadata": {
    "collapsed": false
   },
   "outputs": [],
   "source": [
    "print npy.linspace(0.1, 1, 10)"
   ]
  },
  {
   "cell_type": "code",
   "execution_count": null,
   "metadata": {
    "collapsed": false
   },
   "outputs": [],
   "source": [
    "npy.arange(10)"
   ]
  },
  {
   "cell_type": "code",
   "execution_count": null,
   "metadata": {
    "collapsed": false
   },
   "outputs": [],
   "source": [
    "[x/10.0 for x in npy.arange(10)]"
   ]
  },
  {
   "cell_type": "code",
   "execution_count": null,
   "metadata": {
    "collapsed": false
   },
   "outputs": [],
   "source": [
    "lst = [[i] * 3 for i in range(3)]\n",
    "print lst    "
   ]
  },
  {
   "cell_type": "code",
   "execution_count": null,
   "metadata": {
    "collapsed": false
   },
   "outputs": [],
   "source": [
    "[(x+1.0)/100.0 for x in npy.arange(100)]"
   ]
  },
  {
   "cell_type": "code",
   "execution_count": null,
   "metadata": {
    "collapsed": true
   },
   "outputs": [],
   "source": []
  }
 ],
 "metadata": {
  "anaconda-cloud": {},
  "kernelspec": {
   "display_name": "Python [Root]",
   "language": "python",
   "name": "Python [Root]"
  },
  "language_info": {
   "codemirror_mode": {
    "name": "ipython",
    "version": 2
   },
   "file_extension": ".py",
   "mimetype": "text/x-python",
   "name": "python",
   "nbconvert_exporter": "python",
   "pygments_lexer": "ipython2",
   "version": "2.7.12"
  }
 },
 "nbformat": 4,
 "nbformat_minor": 0
}
