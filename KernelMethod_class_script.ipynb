{
 "cells": [
  {
   "cell_type": "code",
   "execution_count": 7,
   "metadata": {
    "collapsed": true
   },
   "outputs": [],
   "source": [
    "%matplotlib inline\n",
    "import numpy as np\n",
    "from mpl_toolkits.mplot3d import Axes3D\n",
    "import matplotlib.pyplot as plt\n",
    "import time"
   ]
  },
  {
   "cell_type": "code",
   "execution_count": 30,
   "metadata": {
    "collapsed": true
   },
   "outputs": [],
   "source": [
    "class MLmodel:\n",
    "    \n",
    "    def __init__(self):\n",
    "        return\n",
    "    \n",
    "    def set_data(self,X_train=None,t_train=None): #TODO 想定される入力を書く\n",
    "\n",
    "        if type(X_train)!=type(None) :\n",
    "            X_train_old=self.X_train if hasattr(self,'X_train') else None\n",
    "            self.X_train=X_train\n",
    "            self.num_data=self.X_train[0].size\n",
    "\n",
    "        if type(t_train)!=type(None) :\n",
    "            t_train_old=self.t_train if hasattr(self,'t_train') else None\n",
    "            self.t_train=t_train\n",
    "            self.t_train_array=np.reshape(t_train,np.size(t_train))\n",
    "\n",
    "        \n",
    "        if self.X_train[0].size!=self.t_train.size:\n",
    "            self.X_train=X_train_old\n",
    "            self.t_train=t_train_old\n",
    "\n",
    "            assert  False ,\"Numbers of data of X and t must be the same.\"\n",
    "        \n",
    "        return\n",
    "    \n",
    "    def fit(self, X_train=None, t_train=None):\n",
    "\n",
    "        if type(X_train)!=type(None) or type(t)!=type(None) : #TODO: Replace \"type\" to \"is\"\n",
    "            self.set_data(X_train,t_train)\n",
    "        return\n",
    "    \n",
    "    def predict(self, X_test):\n",
    "        self.X_test=X_test\n",
    "        self.t_test=None\n",
    "        \n",
    "        return\n",
    "    \n",
    "    def plot(self,training_data=True,test_data=False):\n",
    "                \n",
    "        fig = plt.figure()\n",
    "        ax = Axes3D(fig)\n",
    "        \n",
    "        if training_data:\n",
    "            ax.plot_wireframe(self.X_train[0],self.X_train[1],self.t_train) #<---ここでplot\n",
    "            ax.scatter(self.X_train[0],self.X_train[1],self.t_train) #<---ここでplot\n",
    "\n",
    "        if test_data:\n",
    "            \n",
    "            assert type(self.X_test)!=type(None), \"X_test none\"\n",
    "            assert type(self.t_test)!=type(None), \"t_test none\"\n",
    "\n",
    "            \n",
    "            ax.scatter(self.X_test[0],self.X_test[1],self.t_test,color='green') #<---ここでplot\n",
    "            ax.plot_wireframe(self.X_test[0],self.X_test[1],self.t_test,color='green') #<---ここでplot\n",
    "\n",
    "        return"
   ]
  },
  {
   "cell_type": "markdown",
   "metadata": {},
   "source": [
    "呼び出し方\n",
    "kg = KernelMethod(kernel)\n",
    "kg.set_data(X,np.cos(t))\n",
    "kg.fit()\n",
    "kg.predict(X)\n",
    "kg.plot(training_data=True,test_data=True)"
   ]
  },
  {
   "cell_type": "code",
   "execution_count": 79,
   "metadata": {},
   "outputs": [],
   "source": [
    "class KernelMethod(MLmodel):\n",
    "    \n",
    "    def __init__(self, kernel, regular_coef=0.0):\n",
    "        \n",
    "        assert type(kernel)!=type(None), \"kernel function must be given.\"\n",
    "                \n",
    "        self.kernel = kernel\n",
    "        self.regular_coef = regular_coef\n",
    "        \n",
    "    def set_data(self,X_train=None,t_train=None):\n",
    "        MLmodel.set_data(self,X_train,t_train);\n",
    "        columns=len(self.X_train)\n",
    "        print(\"columns:\",columns)\n",
    "        rows=np.size(self.X_train[0])\n",
    "        print(\"rows:\",rows)\n",
    "        self.X_train_matrix =np.reshape(self.X_train,(rows,columns)) #TODO: (rows, colums)---> X_train.shape\n",
    "        print(self.X_train_matrix[0:5])\n",
    "    \n",
    "    def fit(self, X_train=None, t_train=None):\n",
    "        \n",
    "        MLmodel.fit(self,X_train,t_train)\n",
    "        \n",
    "        #Reshape X_train and t_train so that the size of these matrices are (self.num_data, dimension)\n",
    "        #self.X_train_reshape=\"\" # set_dataのところでやる。\n",
    "        #t_train_array=\"\"\n",
    "        \n",
    "        #Make a matrix K\n",
    "        K=np.zeros((self.num_data,self.num_data));\n",
    "        \n",
    "        for i in range(self.num_data):\n",
    "\n",
    "            for j in range(self.num_data):\n",
    "                K[i,j]=self.kernel(self.X_train_matrix[i,:],self.X_train_matrix[j,:])\n",
    "        \n",
    "        identity=np.identity(self.num_data)\n",
    "        self.a = np.linalg.inv(self.K+self.regular_coef*identity)\n",
    "        \n",
    "        return\n",
    "    \n",
    "    def predict(self, X_test):\n",
    "        MLmodel.predict(self,X_test)\n",
    "        #追加\n",
    "        columns=len(self.X_test)\n",
    "        rows=np.size(self.X_test[0])\n",
    "        self.X_test_matrix =np.reshape(X_test,(rows,columns))\n",
    "        num_test_data=np.size(self.X_test[0])\n",
    "        \n",
    "        k_vector=np.zeros(self.num_data,num_test_data)\n",
    "        print(k_vector)\n",
    "\n",
    "        for j in range(num_test_data):\n",
    "            for i in range(self.num_data):\n",
    "                k_vector[i,j]=self.kernel(X_test_reshape[j] , self.X_train_reshape[i])\n",
    "\n",
    "            self.t_test_array=a.dot(k_vector)\n",
    "            self.t_test=self.t_test_array.reshape(self.X_test[0].shape)\n",
    "\n",
    "        return        "
   ]
  },
  {
   "cell_type": "code",
   "execution_count": null,
   "metadata": {
    "collapsed": true
   },
   "outputs": [],
   "source": []
  },
  {
   "cell_type": "code",
   "execution_count": 80,
   "metadata": {
    "collapsed": true
   },
   "outputs": [],
   "source": [
    "xy_min = -1\n",
    "xy_max = 1\n",
    "n_division = 10#100#10\n",
    "\n",
    "x = np.linspace(xy_min, xy_max, n_division+1)\n",
    "\n",
    "#Ｘは(n_division+1)^2個の点の集まり。\n",
    "#X[0]はx座標の集まり. X[1]はy座標の集まり。\n",
    "X=np.meshgrid(x,x)\n",
    "t=np.sin(X[0])+3*np.cos(X[1])+X[0]*X[1]+np.sin(X[1])**2 *np.cos(X[0])*X[1]**(5)\n",
    "#t=X[0]**6*X[1]**3\n",
    "\n",
    "target=t"
   ]
  },
  {
   "cell_type": "code",
   "execution_count": 81,
   "metadata": {},
   "outputs": [
    {
     "name": "stdout",
     "output_type": "stream",
     "text": [
      "[[-1.  -0.8 -0.6 -0.4 -0.2  0.   0.2  0.4  0.6  0.8  1. ]\n",
      " [-1.  -0.8 -0.6 -0.4 -0.2  0.   0.2  0.4  0.6  0.8  1. ]\n",
      " [-1.  -0.8 -0.6 -0.4 -0.2  0.   0.2  0.4  0.6  0.8  1. ]\n",
      " [-1.  -0.8 -0.6 -0.4 -0.2  0.   0.2  0.4  0.6  0.8  1. ]\n",
      " [-1.  -0.8 -0.6 -0.4 -0.2  0.   0.2  0.4  0.6  0.8  1. ]\n",
      " [-1.  -0.8 -0.6 -0.4 -0.2  0.   0.2  0.4  0.6  0.8  1. ]\n",
      " [-1.  -0.8 -0.6 -0.4 -0.2  0.   0.2  0.4  0.6  0.8  1. ]\n",
      " [-1.  -0.8 -0.6 -0.4 -0.2  0.   0.2  0.4  0.6  0.8  1. ]\n",
      " [-1.  -0.8 -0.6 -0.4 -0.2  0.   0.2  0.4  0.6  0.8  1. ]\n",
      " [-1.  -0.8 -0.6 -0.4 -0.2  0.   0.2  0.4  0.6  0.8  1. ]\n",
      " [-1.  -0.8 -0.6 -0.4 -0.2  0.   0.2  0.4  0.6  0.8  1. ]]\n"
     ]
    }
   ],
   "source": [
    "print(X[0])"
   ]
  },
  {
   "cell_type": "code",
   "execution_count": null,
   "metadata": {
    "collapsed": true
   },
   "outputs": [],
   "source": []
  },
  {
   "cell_type": "code",
   "execution_count": null,
   "metadata": {
    "collapsed": true
   },
   "outputs": [],
   "source": [
    "#Define a kernel function\n",
    "\n",
    "#Polynomial Kernel\n",
    "def polynomial_kernel():\n",
    "    "
   ]
  },
  {
   "cell_type": "code",
   "execution_count": null,
   "metadata": {
    "collapsed": true
   },
   "outputs": [],
   "source": []
  },
  {
   "cell_type": "code",
   "execution_count": 82,
   "metadata": {},
   "outputs": [
    {
     "ename": "AssertionError",
     "evalue": "kernel function must be given.",
     "output_type": "error",
     "traceback": [
      "\u001b[1;31m---------------------------------------------------------------------------\u001b[0m",
      "\u001b[1;31mAssertionError\u001b[0m                            Traceback (most recent call last)",
      "\u001b[1;32m<ipython-input-82-784d7b3694b1>\u001b[0m in \u001b[0;36m<module>\u001b[1;34m()\u001b[0m\n\u001b[1;32m----> 1\u001b[1;33m \u001b[0mkrg\u001b[0m\u001b[1;33m=\u001b[0m\u001b[0mKernelMethod\u001b[0m\u001b[1;33m(\u001b[0m\u001b[0mkernel\u001b[0m\u001b[1;33m=\u001b[0m\u001b[1;32mNone\u001b[0m\u001b[1;33m)\u001b[0m\u001b[1;33m\u001b[0m\u001b[0m\n\u001b[0m\u001b[0;32m      2\u001b[0m \u001b[0mkrg\u001b[0m\u001b[1;33m.\u001b[0m\u001b[0mset_data\u001b[0m\u001b[1;33m(\u001b[0m\u001b[0mX\u001b[0m\u001b[1;33m,\u001b[0m\u001b[0mtarget\u001b[0m\u001b[1;33m)\u001b[0m\u001b[1;33m\u001b[0m\u001b[0m\n\u001b[0;32m      3\u001b[0m \u001b[0mkrg\u001b[0m\u001b[1;33m.\u001b[0m\u001b[0mfit\u001b[0m\u001b[1;33m(\u001b[0m\u001b[1;33m)\u001b[0m\u001b[1;33m\u001b[0m\u001b[0m\n",
      "\u001b[1;32m<ipython-input-79-9a52458f927e>\u001b[0m in \u001b[0;36m__init__\u001b[1;34m(self, kernel, regular_coef)\u001b[0m\n\u001b[0;32m      3\u001b[0m     \u001b[1;32mdef\u001b[0m \u001b[0m__init__\u001b[0m\u001b[1;33m(\u001b[0m\u001b[0mself\u001b[0m\u001b[1;33m,\u001b[0m \u001b[0mkernel\u001b[0m\u001b[1;33m,\u001b[0m \u001b[0mregular_coef\u001b[0m\u001b[1;33m=\u001b[0m\u001b[1;36m0.0\u001b[0m\u001b[1;33m)\u001b[0m\u001b[1;33m:\u001b[0m\u001b[1;33m\u001b[0m\u001b[0m\n\u001b[0;32m      4\u001b[0m \u001b[1;33m\u001b[0m\u001b[0m\n\u001b[1;32m----> 5\u001b[1;33m         \u001b[1;32massert\u001b[0m \u001b[0mtype\u001b[0m\u001b[1;33m(\u001b[0m\u001b[0mkernel\u001b[0m\u001b[1;33m)\u001b[0m\u001b[1;33m!=\u001b[0m\u001b[0mtype\u001b[0m\u001b[1;33m(\u001b[0m\u001b[1;32mNone\u001b[0m\u001b[1;33m)\u001b[0m\u001b[1;33m,\u001b[0m \u001b[1;34m\"kernel function must be given.\"\u001b[0m\u001b[1;33m\u001b[0m\u001b[0m\n\u001b[0m\u001b[0;32m      6\u001b[0m \u001b[1;33m\u001b[0m\u001b[0m\n\u001b[0;32m      7\u001b[0m         \u001b[0mprint\u001b[0m \u001b[1;33m(\u001b[0m\u001b[1;34m\"kernel;\"\u001b[0m\u001b[1;33m+\u001b[0m\u001b[0mkernel\u001b[0m\u001b[1;33m)\u001b[0m\u001b[1;33m\u001b[0m\u001b[0m\n",
      "\u001b[1;31mAssertionError\u001b[0m: kernel function must be given."
     ]
    }
   ],
   "source": [
    "krg=KernelMethod(kernel=None)\n",
    "krg.set_data(X,target)\n",
    "krg.fit()"
   ]
  },
  {
   "cell_type": "code",
   "execution_count": 78,
   "metadata": {},
   "outputs": [
    {
     "data": {
      "text/plain": [
       "False"
      ]
     },
     "execution_count": 78,
     "metadata": {},
     "output_type": "execute_result"
    }
   ],
   "source": [
    "k=None\n",
    "type(k)!=type (None)"
   ]
  },
  {
   "cell_type": "code",
   "execution_count": 67,
   "metadata": {},
   "outputs": [
    {
     "name": "stdout",
     "output_type": "stream",
     "text": [
      "True\n"
     ]
    }
   ],
   "source": [
    "a=1\n",
    "\n",
    "print (a is not None)"
   ]
  },
  {
   "cell_type": "code",
   "execution_count": null,
   "metadata": {
    "collapsed": true
   },
   "outputs": [],
   "source": []
  }
 ],
 "metadata": {
  "kernelspec": {
   "display_name": "Python 3",
   "language": "python",
   "name": "python3"
  },
  "language_info": {
   "codemirror_mode": {
    "name": "ipython",
    "version": 3
   },
   "file_extension": ".py",
   "mimetype": "text/x-python",
   "name": "python",
   "nbconvert_exporter": "python",
   "pygments_lexer": "ipython3",
   "version": "3.5.3"
  }
 },
 "nbformat": 4,
 "nbformat_minor": 2
}
