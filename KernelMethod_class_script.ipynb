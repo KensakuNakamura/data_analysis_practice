{
 "cells": [
  {
   "cell_type": "code",
   "execution_count": 1,
   "metadata": {
    "collapsed": true
   },
   "outputs": [],
   "source": [
    "%matplotlib inline\n",
    "import numpy as np\n",
    "from mpl_toolkits.mplot3d import Axes3D\n",
    "import matplotlib.pyplot as plt\n",
    "import time"
   ]
  },
  {
   "cell_type": "code",
   "execution_count": 2,
   "metadata": {
    "collapsed": true
   },
   "outputs": [],
   "source": [
    "class MLmodel:\n",
    "    \n",
    "    def __init__(self):\n",
    "        return\n",
    "    \n",
    "    def set_data(self,X_train=None,t_train=None):\n",
    "\n",
    "        if type(X_train)!=type(None) :\n",
    "            X_train_old=self.X_train if hasattr(self,'X_train') else None\n",
    "            self.X_train=X_train\n",
    "            self.num_data=self.X_train[0].size\n",
    "\n",
    "        if type(t_train)!=type(None) :\n",
    "            t_train_old=self.t_train if hasattr(self,'t_train') else None\n",
    "            self.t_train=t_train\n",
    "            self.t_train_array=np.reshape(t_train,np.size(t_train))\n",
    "        \n",
    "        if self.X_train[0].size!=t_train.size:\n",
    "            self.X_train=X_train_old\n",
    "            self.t_train=t_train_old\n",
    "\n",
    "            assert  False ,\"Numbers of data of X and t must be the same.\"\n",
    "\n",
    "        return\n",
    "    \n",
    "    def fit(self, X_train=None, t_train=None):\n",
    "\n",
    "        if type(X_train)!=type(None) or type(t)!=type(None) :\n",
    "            self.set_data(X_train,t_train)\n",
    "        return\n",
    "    \n",
    "    def predict(self, X_test):\n",
    "        self.X_test=X_test\n",
    "        self.t_test=None\n",
    "        \n",
    "        return\n",
    "    \n",
    "    def plot(self,training_data=True,test_data=False):\n",
    "                \n",
    "        fig = plt.figure()\n",
    "        ax = Axes3D(fig)\n",
    "        \n",
    "        if training_data:\n",
    "            ax.plot_wireframe(self.X_train[0],self.X_train[1],self.t_train) #<---ここでplot\n",
    "            ax.scatter(self.X_train[0],self.X_train[1],self.t_train) #<---ここでplot\n",
    "\n",
    "        if test_data:\n",
    "            \n",
    "            assert type(self.X_test)!=type(None), \"X_test none\"\n",
    "            assert type(self.t_test)!=type(None), \"t_test none\"\n",
    "\n",
    "            \n",
    "            ax.scatter(self.X_test[0],self.X_test[1],self.t_test,color='green') #<---ここでplot\n",
    "            ax.plot_wireframe(self.X_test[0],self.X_test[1],self.t_test,color='green') #<---ここでplot\n",
    "\n",
    "        return"
   ]
  },
  {
   "cell_type": "markdown",
   "metadata": {},
   "source": [
    "呼び出し方\n",
    "kg = KernelMethod(kernel)\n",
    "kg.set_data(X,np.cos(t))\n",
    "kg.fit()\n",
    "kg.predict(X)\n",
    "kg.plot(training_data=True,test_data=True)"
   ]
  },
  {
   "cell_type": "code",
   "execution_count": 4,
   "metadata": {},
   "outputs": [],
   "source": [
    "class KernelMethod(MLmodel):\n",
    "    \n",
    "    def __init__(self, kernel, regular_coef=0.0):\n",
    "        self.kernel = kernel\n",
    "        self.regular_coef = regular_coef\n",
    "    \n",
    "    def fit(self, X_train=None, t_train=None):\n",
    "        \n",
    "        MLmodel.fit(self,X_train,t_train)\n",
    "        \n",
    "        #Reshape X_train and t_train so that the size of these matrices are (self.num_data, dimension)\n",
    "        self.X_train_reshape=\"\" # set_dataのところでやる。\n",
    "        t_train_array=\"\"\n",
    "        \n",
    "        #Make a matrix K\n",
    "        K=np.zeros(self.num_data,self.num_data);\n",
    "        \n",
    "        for i in xrange(self.num_data):\n",
    "\n",
    "            for j in xrange(self.num_data):\n",
    "                K[i,j]=self.kernel(X_train_reshape[i,:],self.X_train_reshape[j,:])\n",
    "        \n",
    "        identity=np.identity(self.num_data)\n",
    "        self.a = np.linalg.inv(self.K+self.regular_coef*identity)\n",
    "        \n",
    "        return\n",
    "    \n",
    "    def predict(self, X_test):\n",
    "        MLmodel.predict(self,X_test)\n",
    "        \n",
    "        X_test_reshape=\"\"\n",
    "        num_test_data=\"\"\n",
    "        \n",
    "        k_vector=np.zeros(self.num_data,num_test_data)\n",
    "        \n",
    "\n",
    "        for j in xrange(num_test_data):\n",
    "            for i in xrange(self.num_data):\n",
    "                k_vector[i,j]=self.kernel(X_test_reshape[j] , self.X_train_reshape[i])\n",
    "\n",
    "            self.t_test_array=a.dot(k_vector)\n",
    "            self.t_test=self.t_test_array.reshape(self.X_test[0].shape)\n",
    "\n",
    "        return        "
   ]
  },
  {
   "cell_type": "code",
   "execution_count": null,
   "metadata": {
    "collapsed": true
   },
   "outputs": [],
   "source": []
  }
 ],
 "metadata": {
  "kernelspec": {
   "display_name": "Python 3",
   "language": "python",
   "name": "python3"
  },
  "language_info": {
   "codemirror_mode": {
    "name": "ipython",
    "version": 3
   },
   "file_extension": ".py",
   "mimetype": "text/x-python",
   "name": "python",
   "nbconvert_exporter": "python",
   "pygments_lexer": "ipython3",
   "version": "3.5.3"
  }
 },
 "nbformat": 4,
 "nbformat_minor": 2
}
