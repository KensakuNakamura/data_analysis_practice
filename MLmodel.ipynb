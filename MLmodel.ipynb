{
 "cells": [
  {
   "cell_type": "code",
   "execution_count": 1,
   "metadata": {
    "collapsed": true
   },
   "outputs": [],
   "source": [
    "%matplotlib inline\n",
    "import numpy as np\n",
    "from mpl_toolkits.mplot3d import Axes3D\n",
    "import matplotlib.pyplot as plt\n",
    "import time"
   ]
  },
  {
   "cell_type": "code",
   "execution_count": null,
   "metadata": {
    "collapsed": true
   },
   "outputs": [],
   "source": []
  },
  {
   "cell_type": "markdown",
   "metadata": {},
   "source": [
    "# 呼び出し方\n",
    "\n",
    "ridge = RidgeRegression(basis=phi, coef=0.0)\n",
    "\n",
    "ridge = RidgeRegression(basis_type=\"poly\", max_degree=3, coef=0.01)\n",
    "\n",
    "\n",
    "ridge_fit=ridge(X,Y)\n",
    "\n",
    "ridge_fit_predict=ridge_fit(X_0)"
   ]
  },
  {
   "cell_type": "code",
   "execution_count": null,
   "metadata": {
    "collapsed": true
   },
   "outputs": [],
   "source": []
  },
  {
   "cell_type": "code",
   "execution_count": 2,
   "metadata": {
    "collapsed": true
   },
   "outputs": [],
   "source": [
    "class MLmodel:\n",
    "    \n",
    "    def __init__(self):\n",
    "        return\n",
    "    \n",
    "    def set_data(self,X_train=None,t_train=None):\n",
    "\n",
    "        if type(X_train)!=type(None) :\n",
    "            X_train_old=self.X_train if hasattr(self,'X_train') else None\n",
    "            self.X_train=X_train\n",
    "            self.num_data=self.X_train[0].size\n",
    "\n",
    "        if type(t_train)!=type(None) :\n",
    "            t_train_old=self.t_train if hasattr(self,'t_train') else None\n",
    "            self.t_train=t_train\n",
    "            self.t_train_array=np.reshape(t_train,np.size(t_train))\n",
    "        \n",
    "        if self.X_train[0].size!=t_train.size:\n",
    "            self.X_train=X_train_old\n",
    "            self.t_train=t_train_old\n",
    "\n",
    "            assert  False ,\"Numbers of data of X and t must be the same.\"\n",
    "\n",
    "        return\n",
    "    \n",
    "    def fit(self, X_train=None, t_train=None):\n",
    "\n",
    "        if type(X_train)!=type(None) or type(t_train)!=type(None) :\n",
    "            self.set_data(X_train,t_train)\n",
    "        return\n",
    "    \n",
    "    def predict(self, X_test):\n",
    "        self.X_test=X_test\n",
    "        self.t_test=None\n",
    "        \n",
    "        return\n",
    "    \n",
    "    def plot(self,training_data=True,test_data=False):\n",
    "                \n",
    "        fig = plt.figure()\n",
    "        ax = Axes3D(fig)\n",
    "        \n",
    "        if training_data:\n",
    "            ax.plot_wireframe(self.X_train[0],self.X_train[1],self.t_train) #<---ここでplot\n",
    "            ax.scatter(self.X_train[0],self.X_train[1],self.t_train) #<---ここでplot\n",
    "\n",
    "        if test_data:\n",
    "            \n",
    "            assert type(self.X_test)!=type(None), \"X_test none\"\n",
    "            assert type(self.t_test)!=type(None), \"t_test none\"\n",
    "\n",
    "            \n",
    "            ax.scatter(self.X_test[0],self.X_test[1],self.t_test,color='green') #<---ここでplot\n",
    "            ax.plot_wireframe(self.X_test[0],self.X_test[1],self.t_test,color='green') #<---ここでplot\n",
    "\n",
    "        return"
   ]
  },
  {
   "cell_type": "code",
   "execution_count": null,
   "metadata": {
    "collapsed": true
   },
   "outputs": [],
   "source": []
  }
 ],
 "metadata": {
  "anaconda-cloud": {},
  "kernelspec": {
   "display_name": "Python 3",
   "language": "python",
   "name": "python3"
  },
  "language_info": {
   "codemirror_mode": {
    "name": "ipython",
    "version": 3
   },
   "file_extension": ".py",
   "mimetype": "text/x-python",
   "name": "python",
   "nbconvert_exporter": "python",
   "pygments_lexer": "ipython3",
   "version": "3.5.3"
  }
 },
 "nbformat": 4,
 "nbformat_minor": 1
}
