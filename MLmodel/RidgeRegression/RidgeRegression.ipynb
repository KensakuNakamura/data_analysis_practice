{
 "cells": [
  {
   "cell_type": "code",
   "execution_count": 10,
   "metadata": {},
   "outputs": [
    {
     "ename": "ImportError",
     "evalue": "No module named 'MLmodel'",
     "output_type": "error",
     "traceback": [
      "\u001b[1;31m---------------------------------------------------------------------------\u001b[0m",
      "\u001b[1;31mImportError\u001b[0m                               Traceback (most recent call last)",
      "\u001b[1;32m<ipython-input-10-ced3ed080fab>\u001b[0m in \u001b[0;36m<module>\u001b[1;34m()\u001b[0m\n\u001b[0;32m      5\u001b[0m \u001b[1;32mimport\u001b[0m \u001b[0mtime\u001b[0m\u001b[1;33m\u001b[0m\u001b[0m\n\u001b[0;32m      6\u001b[0m \u001b[1;33m\u001b[0m\u001b[0m\n\u001b[1;32m----> 7\u001b[1;33m \u001b[1;32mfrom\u001b[0m \u001b[0mMLmodel\u001b[0m\u001b[1;33m.\u001b[0m\u001b[0mMLmodel\u001b[0m \u001b[1;32mimport\u001b[0m \u001b[0mMLmodel\u001b[0m\u001b[1;33m\u001b[0m\u001b[0m\n\u001b[0m",
      "\u001b[1;31mImportError\u001b[0m: No module named 'MLmodel'"
     ]
    }
   ],
   "source": [
    "%matplotlib inline\n",
    "import numpy as np\n",
    "from mpl_toolkits.mplot3d import Axes3D\n",
    "import matplotlib.pyplot as plt\n",
    "import time\n",
    "\n",
    "from MLmodel.MLmodel import MLmodel\n"
   ]
  },
  {
   "cell_type": "code",
   "execution_count": null,
   "metadata": {
    "collapsed": true
   },
   "outputs": [],
   "source": []
  },
  {
   "cell_type": "markdown",
   "metadata": {},
   "source": [
    "# 呼び出し方\n",
    "\n",
    "ridge = RidgeRegression(basis=phi, coef=0.0)\n",
    "\n",
    "ridge = RidgeRegression(basis_type=\"poly\", max_degree=3, coef=0.01)\n",
    "\n",
    "\n",
    "ridge_fit=ridge(X,Y)\n",
    "\n",
    "ridge_fit_predict=ridge_fit(X_0)"
   ]
  },
  {
   "cell_type": "code",
   "execution_count": null,
   "metadata": {
    "collapsed": true
   },
   "outputs": [],
   "source": []
  },
  {
   "cell_type": "code",
   "execution_count": 7,
   "metadata": {
    "collapsed": true
   },
   "outputs": [],
   "source": [
    "class RidgeRegression(MLmodel):\n",
    "    \n",
    "    def __init__(self, basis=None, regular_coef=0.0):\n",
    "        self.basis = basis\n",
    "        self.regular_coef = regular_coef\n",
    "        self.num_func = len(basis)\n",
    "    \n",
    "    def fit(self, X_train=None, t_train=None):\n",
    "        MLmodel.fit(self,X_train,t_train)\n",
    "        PHI = np.zeros((self.num_data, self.num_func))\n",
    "\n",
    "        #関数Φ（行：サンプル数,列：基底関数の個数）の各要素に値を入れる\n",
    "        for i,ph in enumerate(self.basis):\n",
    "            PHI[:,i] = np.reshape(ph(self.X_train[0],self.X_train[1]),self.num_data)\n",
    "        \n",
    "        PHI_trans=np.transpose(PHI)\n",
    "        self.w = np.linalg.inv(PHI_trans.dot(PHI)).dot(np.dot(PHI_trans, self.t_train_array))\n",
    "        \n",
    "        return\n",
    "    \n",
    "    def predict(self, X_test):\n",
    "        MLmodel.predict(self,X_test)\n",
    "        PHI = np.zeros((self.num_data, self.num_func))\n",
    "\n",
    "        #関数Φ（行：サンプル数,列：基底関数の個数）の各要素に値を入れる\n",
    "        for i,ph in enumerate(self.basis):\n",
    "            PHI[:,i] = np.reshape(ph(self.X_test[0],self.X_test[1]),self.num_data)\n",
    "\n",
    "            self.t_test_array=PHI.dot(self.w)\n",
    "            self.t_test=self.t_test_array.reshape(self.X_test[0].shape)\n",
    "\n",
    "        return        "
   ]
  },
  {
   "cell_type": "code",
   "execution_count": 8,
   "metadata": {
    "collapsed": true
   },
   "outputs": [],
   "source": [
    "class PolynomialRegression(RidgeRegression):\n",
    "    def __init__(self,max_degree=1,regular_coef=0.0):\n",
    "        #polynomial_basis。\n",
    "        #polynomial_basis=...\n",
    "        polynomial_basis=\"\"\n",
    "        \n",
    "        RidgeRegression.__init__(self,polynomial_basis,regular_coef)\n",
    "        return  "
   ]
  },
  {
   "cell_type": "code",
   "execution_count": null,
   "metadata": {
    "collapsed": true
   },
   "outputs": [],
   "source": []
  }
 ],
 "metadata": {
  "anaconda-cloud": {},
  "kernelspec": {
   "display_name": "Python 3",
   "language": "python",
   "name": "python3"
  }
 },
 "nbformat": 4,
 "nbformat_minor": 1
}
