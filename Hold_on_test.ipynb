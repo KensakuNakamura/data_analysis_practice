{
 "cells": [
  {
   "cell_type": "code",
   "execution_count": 1,
   "metadata": {
    "collapsed": true
   },
   "outputs": [],
   "source": [
    "%matplotlib inline"
   ]
  },
  {
   "cell_type": "code",
   "execution_count": 2,
   "metadata": {
    "collapsed": true
   },
   "outputs": [],
   "source": [
    "import matplotlib.pyplot as plt"
   ]
  },
  {
   "cell_type": "code",
   "execution_count": 3,
   "metadata": {
    "collapsed": false
   },
   "outputs": [],
   "source": [
    "x=[0,1]\n",
    "y=[0,1]\n",
    "\n",
    "# matplotlib.pyplot.plot(x,y, \"o--\",markersize=100)"
   ]
  },
  {
   "cell_type": "code",
   "execution_count": 4,
   "metadata": {
    "collapsed": false
   },
   "outputs": [],
   "source": [
    "from __future__ import division #skip\n",
    "import time\n",
    "\n",
    "import numpy as npy\n",
    "\n",
    "from sklearn.svm import SVR #sklearn/svn directoryの中のclasses.pyファイルからSVRクラスをimportしている。\n",
    "#.svmのあとに.classesを付けても良い。\n",
    "from sklearn.model_selection import GridSearchCV\n",
    "from sklearn.model_selection import learning_curve\n",
    "from sklearn.kernel_ridge import KernelRidge\n",
    "import pylab as pl #pylabはmatplotlib.pyplotと同じ意味"
   ]
  },
  {
   "cell_type": "code",
   "execution_count": 5,
   "metadata": {
    "collapsed": false
   },
   "outputs": [],
   "source": [
    "random_generator=npy.random.RandomState(1) #randomクラスのオブジェクト。乱数生成期の初期化。0というseedで初期化。"
   ]
  },
  {
   "cell_type": "code",
   "execution_count": 6,
   "metadata": {
    "collapsed": false
   },
   "outputs": [
    {
     "name": "stdout",
     "output_type": "stream",
     "text": [
      "0.417022004703\n"
     ]
    }
   ],
   "source": [
    "for i in xrange(1): #0から99までの列\n",
    "    print random_generator.rand()"
   ]
  },
  {
   "cell_type": "code",
   "execution_count": 7,
   "metadata": {
    "collapsed": false
   },
   "outputs": [
    {
     "name": "stdout",
     "output_type": "stream",
     "text": [
      "[[  3.60162247e+00]\n",
      " [  5.71874087e-04]\n",
      " [  1.51166286e+00]\n",
      " ..., \n",
      " [  5.40218282e-01]\n",
      " [  3.81396889e+00]\n",
      " [  3.82748480e+00]]\n",
      "[ -4.43974821e-01   5.71874056e-04   9.98252126e-01 ...,   5.14323201e-01\n",
      "  -6.22846776e-01  -6.33363657e-01]\n",
      "[-0.44397482  0.99825213  0.44546446 ..., -0.32567712  0.29329201\n",
      " -0.62284678]\n"
     ]
    }
   ],
   "source": [
    "#Generate sample data\n",
    "Num_of_data=10000\n",
    "divisor=5\n",
    "assert Num_of_data%divisor==0,\"Needs that Num_of_data%divisor==0\" #assertは中がfalseのときにエラーを出す。\n",
    "\n",
    "X=5*random_generator.rand(Num_of_data, 1)\n",
    "print X\n",
    "y=npy.sin(X).ravel() #ravel()を付けると行列がリストになる、numpyでは行列はリストの中にリストになると言える\n",
    "print(y)\n",
    "print(y[::2]) #syntax error 文法エラー #x::yではxからy個に一個値が出力される # x:: （y無し）ではy=1となる、::y（x無し）ではx=0となる\n",
    "#Add noise to tagets\n",
    "y[::divisor] += 3 * (0.5 - random_generator.rand(X.shape[0] // divisor)) \n",
    "#0.5 here behaves as the matrix with the same number of rows and columns as random_generator.rand(...).\n",
    "#X.shape=(num_of_rows,num_of_columns). Therefore, X.shape[1]=num_of_rows, \n",
    "# for int types a,b,  a//b =a%b as in C language. i.e. devision of two integers, but does not return the remainder.\n"
   ]
  },
  {
   "cell_type": "code",
   "execution_count": 8,
   "metadata": {
    "collapsed": false
   },
   "outputs": [],
   "source": [
    "X_plot = npy.linspace(0, 5, 100000)[:, None]\n",
    "#linspace(a,b,num) return a list[a,...,b] with num elements.\n",
    "#[:,None] converts a list to a matrix which is a column vector.\n"
   ]
  },
  {
   "cell_type": "code",
   "execution_count": null,
   "metadata": {
    "collapsed": false
   },
   "outputs": [],
   "source": []
  },
  {
   "cell_type": "code",
   "execution_count": 9,
   "metadata": {
    "collapsed": false
   },
   "outputs": [
    {
     "name": "stdout",
     "output_type": "stream",
     "text": [
      "[[ 2.90202915]\n",
      " [ 0.65114669]\n",
      " [ 1.31794453]\n",
      " ..., \n",
      " [ 1.06603718]\n",
      " [ 2.00588743]\n",
      " [ 1.32533482]]\n",
      "10000\n",
      "[ 0.23727862  0.60609887  0.96820294 ...,  0.87529098  0.90683165\n",
      "  0.97002528]\n",
      "[ 0.23727862  0.96820294  0.35834003 ...,  0.38994865 -0.99275443\n",
      "  0.90683165]\n"
     ]
    }
   ],
   "source": [
    "#Generate sample data\n",
    "Num_of_data=10000\n",
    "divisor=5\n",
    "\n",
    "assert Num_of_data%divisor == 0, \"the remainder of Num of data divided by divisor must be zero\"\n",
    "\n",
    "\n",
    "\n",
    "X=divisor*random_generator.rand(Num_of_data, 1)\n",
    "print X\n",
    "print X.shape[0]\n",
    "y=npy.sin(X).ravel() #ravel()を付けると行列がリストになる、numpyでは行列はリストの中にリストになると言える\n",
    "print(y)\n",
    "print(y[::2]) #syntax error 文法エラー #x::yではxからy個に一個値が出力される # x:: （y無し）ではy=1となる、::y（x無し）ではx=0となる\n",
    "#Add noise to tagets\n",
    "y[::divisor] += 3 * (0.5 - random_generator.rand(X.shape[0] // divisor)) \n",
    "#0.5 here behaves as the matrix with the same number of rows and columns as random_generator.rand(...).\n",
    "#X.shape=(num_of_rows,num_of_columns). Therefore, X.shape[1]=num_of_rows, \n",
    "# for int types a,b,  a//b =a%b as in C language. i.e. devision of two integers, but does not return the remainder.\n"
   ]
  },
  {
   "cell_type": "code",
   "execution_count": 10,
   "metadata": {
    "collapsed": false
   },
   "outputs": [
    {
     "name": "stdout",
     "output_type": "stream",
     "text": [
      "SVR complexity and bandwith selected and model fitted in 1.270 s\n",
      "Support vector ratio: 0.300\n",
      "SVR prediction for 100000 inputs in 0.078 s\n",
      "SVR prediction for 100000 inputs in 0.093 s\n"
     ]
    }
   ],
   "source": [
    "#Fit regression model\n",
    "train_size = 100 #準備したデータの内 100個を用いて回帰する\n",
    "svr = GridSearchCV(SVR(kernel=\"rbf\", gamma=-0.1), cv=5,\n",
    "                    param_grid={\"C\": [1e0, 1e1, 1e2, 1e3], \n",
    "                                \"gamma\":npy.logspace(-2, 2, 5)}, scoring=\"r2\")\n",
    "# gamma is \"Kernel coefficient\". In the case of rbf, it is in the exponential term.\n",
    "# Cで4パターン、gammaで5パターンの合計 20通りで SVR の学習・評価をする、各C, gammmaで5回クロスバリデーションする\n",
    "# \"scoring =\"で mertics を決定できる、何も書かない（デフォルト）だと、r2 になる\n",
    "\n",
    "t0=time.time()\n",
    "svr.fit(X[:train_size], y[:train_size])\n",
    "svr_fit_time=time.time()-t0\n",
    "print(\"SVR complexity and bandwith selected and model fitted in %.3f s\"\n",
    "     % svr_fit_time)\n",
    "\n",
    "\n",
    "#best_estimator_ は最も高いスコアのモデルの結果を出力する\n",
    "sv_ratio=svr.best_estimator_.support_.shape[0] / train_size \n",
    "print(\"Support vector ratio: %.3f\" % sv_ratio)\n",
    "\n",
    "t0=time.time()\n",
    "y_svr_besr=svr.best_estimator_.predict(X_plot) #predict は　最も高いスコアのモデル予測結果を出力する\n",
    "svr_predict_time=time.time()-t0\n",
    "print(\"SVR prediction for %d inputs in %.3f s\"\n",
    "        %(X_plot.shape[0], svr_predict_time))\n",
    "\n",
    "\n",
    "t0=time.time()\n",
    "y_svr=svr.predict(X_plot)\n",
    "svr_best_predict_time=time.time()-t0\n",
    "print(\"SVR prediction for %d inputs in %.3f s\"\n",
    "        %(X_plot.shape[0], svr_best_predict_time))"
   ]
  },
  {
   "cell_type": "code",
   "execution_count": 11,
   "metadata": {
    "collapsed": false
   },
   "outputs": [
    {
     "data": {
      "text/plain": [
       "{'mean_fit_time': array([ 0.00079999,  0.00020003,  0.00039997,  0.00099993,  0.00340004,\n",
       "         0.        ,  0.        ,  0.        ,  0.00320001,  0.00299997,\n",
       "         0.00320001,  0.00619998,  0.0046    ,  0.01240001,  0.        ,\n",
       "         0.        ,  0.01700001,  0.02799997,  0.09440002,  0.00320001]),\n",
       " 'mean_score_time': array([ 0.00079999,  0.00040002,  0.00040002,  0.        ,  0.00320001,\n",
       "         0.        ,  0.        ,  0.        ,  0.        ,  0.        ,\n",
       "         0.        ,  0.        ,  0.00019999,  0.        ,  0.        ,\n",
       "         0.00620003,  0.00020003,  0.00040002,  0.00320001,  0.        ]),\n",
       " 'mean_test_score': array([ 0.53414641,  0.72932344,  0.73603756,  0.71375025,  0.64936056,\n",
       "         0.61457341,  0.74701592,  0.73706062,  0.65203195,  0.58508864,\n",
       "         0.65509148,  0.74370338,  0.70295852,  0.58224019,  0.41545537,\n",
       "         0.72655486,  0.73577397,  0.70346304,  0.46275423, -0.87803361]),\n",
       " 'mean_train_score': array([ 0.55265592,  0.73467768,  0.77432334,  0.79771025,  0.8515544 ,\n",
       "         0.64215125,  0.75537113,  0.78134404,  0.82525806,  0.90860224,\n",
       "         0.67661381,  0.7586589 ,  0.78441503,  0.83497997,  0.91899955,\n",
       "         0.7333392 ,  0.76758186,  0.7840835 ,  0.84162001,  0.93358594]),\n",
       " 'param_C': masked_array(data = [1.0 1.0 1.0 1.0 1.0 10.0 10.0 10.0 10.0 10.0 100.0 100.0 100.0 100.0 100.0\n",
       "  1000.0 1000.0 1000.0 1000.0 1000.0],\n",
       "              mask = [False False False False False False False False False False False False\n",
       "  False False False False False False False False],\n",
       "        fill_value = ?),\n",
       " 'param_gamma': masked_array(data = [0.01 0.10000000000000001 1.0 10.0 100.0 0.01 0.10000000000000001 1.0 10.0\n",
       "  100.0 0.01 0.10000000000000001 1.0 10.0 100.0 0.01 0.10000000000000001 1.0\n",
       "  10.0 100.0],\n",
       "              mask = [False False False False False False False False False False False False\n",
       "  False False False False False False False False],\n",
       "        fill_value = ?),\n",
       " 'params': ({'C': 1.0, 'gamma': 0.01},\n",
       "  {'C': 1.0, 'gamma': 0.10000000000000001},\n",
       "  {'C': 1.0, 'gamma': 1.0},\n",
       "  {'C': 1.0, 'gamma': 10.0},\n",
       "  {'C': 1.0, 'gamma': 100.0},\n",
       "  {'C': 10.0, 'gamma': 0.01},\n",
       "  {'C': 10.0, 'gamma': 0.10000000000000001},\n",
       "  {'C': 10.0, 'gamma': 1.0},\n",
       "  {'C': 10.0, 'gamma': 10.0},\n",
       "  {'C': 10.0, 'gamma': 100.0},\n",
       "  {'C': 100.0, 'gamma': 0.01},\n",
       "  {'C': 100.0, 'gamma': 0.10000000000000001},\n",
       "  {'C': 100.0, 'gamma': 1.0},\n",
       "  {'C': 100.0, 'gamma': 10.0},\n",
       "  {'C': 100.0, 'gamma': 100.0},\n",
       "  {'C': 1000.0, 'gamma': 0.01},\n",
       "  {'C': 1000.0, 'gamma': 0.10000000000000001},\n",
       "  {'C': 1000.0, 'gamma': 1.0},\n",
       "  {'C': 1000.0, 'gamma': 10.0},\n",
       "  {'C': 1000.0, 'gamma': 100.0}),\n",
       " 'rank_test_score': array([17,  6,  4,  8, 13, 14,  1,  3, 12, 15, 11,  2, 10, 16, 19,  7,  5,\n",
       "         9, 18, 20]),\n",
       " 'split0_test_score': array([ 0.59354431,  0.82192667,  0.83372019,  0.81476598,  0.74855362,\n",
       "         0.73294809,  0.8302826 ,  0.83486905,  0.81083628,  0.56665265,\n",
       "         0.8281617 ,  0.83407113,  0.83346946,  0.8207137 ,  0.44257997,\n",
       "         0.82020589,  0.83100652,  0.83345442,  0.7841008 ,  0.42605164]),\n",
       " 'split0_train_score': array([ 0.53637455,  0.71320058,  0.75265909,  0.774558  ,  0.8494639 ,\n",
       "         0.61053342,  0.73525476,  0.75946665,  0.79456786,  0.91606215,\n",
       "         0.64261493,  0.73561966,  0.75892695,  0.81129201,  0.92235586,\n",
       "         0.71181758,  0.74335529,  0.75979036,  0.80452169,  0.9299184 ]),\n",
       " 'split1_test_score': array([ 0.56424492,  0.72108042,  0.71740813,  0.71799615,  0.7144872 ,\n",
       "         0.63942516,  0.73883731,  0.74003543,  0.66875191,  0.67864399,\n",
       "         0.67911294,  0.73805237,  0.73081715,  0.60930233,  0.31765608,\n",
       "         0.73825941,  0.72781473,  0.73097869,  0.53643609,  0.18240818]),\n",
       " 'split1_train_score': array([ 0.54531933,  0.7352391 ,  0.77862614,  0.79890249,  0.83369878,\n",
       "         0.64494003,  0.75765794,  0.78264464,  0.8246728 ,  0.90434664,\n",
       "         0.67338796,  0.75906786,  0.7824417 ,  0.83469383,  0.91999033,\n",
       "         0.72929371,  0.77265047,  0.78294125,  0.84319204,  0.93186515]),\n",
       " 'split2_test_score': array([ 0.46646976,  0.63010193,  0.660891  ,  0.67905111,  0.63287798,\n",
       "         0.4908042 ,  0.64605414,  0.65094834,  0.64167346,  0.59435313,\n",
       "         0.40582405,  0.65194564,  0.65136893,  0.59621939,  0.59801481,\n",
       "         0.59429665,  0.65192763,  0.64731392,  0.50468874,  0.60807072]),\n",
       " 'split2_train_score': array([ 0.57469679,  0.76511057,  0.79813005,  0.81079024,  0.86480883,\n",
       "         0.68112643,  0.78442668,  0.80189816,  0.83628393,  0.90895251,\n",
       "         0.73021501,  0.78488575,  0.80227966,  0.84011835,  0.91740671,\n",
       "         0.76457187,  0.78502395,  0.80266972,  0.85424363,  0.92861795]),\n",
       " 'split3_test_score': array([ 0.60498868,  0.75148121,  0.77297961,  0.75284774,  0.60232964,\n",
       "         0.70665354,  0.76452292,  0.78390816,  0.58504815,  0.53861084,\n",
       "         0.73376068,  0.76446067,  0.78445089,  0.37837613,  0.16547748,\n",
       "         0.76621964,  0.76727288,  0.7780284 ,  0.02550454, -6.0829011 ]),\n",
       " 'split3_train_score': array([ 0.53682504,  0.72897396,  0.76275639,  0.78925758,  0.85292512,\n",
       "         0.6318931 ,  0.75158   ,  0.7724179 ,  0.83780167,  0.9082769 ,\n",
       "         0.66401214,  0.752865  ,  0.77300868,  0.85367758,  0.9166104 ,\n",
       "         0.72618169,  0.75951305,  0.77032815,  0.86695534,  0.93186507]),\n",
       " 'split4_test_score': array([ 0.44148435,  0.72202695,  0.69518891,  0.60409027,  0.54855433,\n",
       "         0.50303607,  0.75538261,  0.67554212,  0.55384994,  0.54718256,\n",
       "         0.62859805,  0.72998707,  0.51468615,  0.50658939,  0.55354852,\n",
       "         0.7137927 ,  0.70084811,  0.52753976,  0.46304096,  0.47620251]),\n",
       " 'split4_train_score': array([ 0.5700639 ,  0.73086422,  0.77944504,  0.81504292,  0.85687536,\n",
       "         0.64226328,  0.74793628,  0.79029288,  0.83296407,  0.90537299,\n",
       "         0.67283901,  0.76085621,  0.80541816,  0.83511808,  0.91863445,\n",
       "         0.73483114,  0.77736651,  0.80468801,  0.83918732,  0.94566315]),\n",
       " 'std_fit_time': array([ 0.00039999,  0.00040007,  0.00048986,  0.        ,  0.00631189,\n",
       "         0.        ,  0.        ,  0.        ,  0.00640001,  0.00599995,\n",
       "         0.00640001,  0.00759997,  0.00574794,  0.00621611,  0.        ,\n",
       "         0.        ,  0.0138708 ,  0.02858673,  0.03592545,  0.00640001]),\n",
       " 'std_score_time': array([ 0.00039999,  0.00048992,  0.00048992,  0.        ,  0.00591275,\n",
       "         0.        ,  0.        ,  0.        ,  0.        ,  0.        ,\n",
       "         0.        ,  0.        ,  0.00039997,  0.        ,  0.        ,\n",
       "         0.00760003,  0.00040007,  0.00048992,  0.00640001,  0.        ]),\n",
       " 'std_test_score': array([ 0.06725926,  0.06169671,  0.06094142,  0.07068262,  0.07311118,\n",
       "         0.10086458,  0.05927901,  0.06777888,  0.08914281,  0.05054775,\n",
       "         0.14110658,  0.05871414,  0.11185543,  0.14496964,  0.15823215,\n",
       "         0.07501455,  0.06062144,  0.10706688,  0.24561698,  2.60608067]),\n",
       " 'std_train_score': array([ 0.01648249,  0.01693999,  0.01558614,  0.01469968,  0.01028654,\n",
       "         0.02294241,  0.01627128,  0.01457766,  0.01600328,  0.00410894,\n",
       "         0.02902574,  0.01585698,  0.01757224,  0.01369105,  0.00203101,\n",
       "         0.01736941,  0.01468121,  0.01761059,  0.0209089 ,  0.00616301])}"
      ]
     },
     "execution_count": 11,
     "metadata": {},
     "output_type": "execute_result"
    }
   ],
   "source": [
    "svr.cv_results_ #svrの結果をまとめて表示"
   ]
  },
  {
   "cell_type": "code",
   "execution_count": 13,
   "metadata": {
    "collapsed": false
   },
   "outputs": [
    {
     "name": "stdout",
     "output_type": "stream",
     "text": [
      "[ 0  2  5  8 10 11 20 25 30 35 39 40 43 45 46 50 52 53 55 60 65 70 71 75 78\n",
      " 80 85 90 95 98]\n",
      "[ 0  2  5  8 10 11 20 25 30 35]\n"
     ]
    },
    {
     "data": {
      "text/plain": [
       "<matplotlib.legend.Legend at 0xb2c3cf8>"
      ]
     },
     "execution_count": 13,
     "metadata": {},
     "output_type": "execute_result"
    },
    {
     "data": {
      "image/png": "[encoded data removed]",
      "text/plain": [
       "<matplotlib.figure.Figure at 0x9dba9b0>"
      ]
     },
     "metadata": {},
     "output_type": "display_data"
    }
   ],
   "source": [
    "sv_ind = svr.best_estimator_.support_\n",
    "print sv_ind\n",
    "print sv_ind[:10]\n",
    "plt.scatter(X[sv_ind], y[sv_ind], c=\"r\", s=50, label=\"SVR support vectors\", zorder=2)\n",
    "#this is as same as plt.plot(X[sv_ind], y[sv_ind], c=\"r\", marker='o',linestyle=\"none\",label=\"SVR support vectors\", zorder=2)\n",
    "\n",
    "# plt.scatter(X[[0,2,5,8,10,11,20,25,30,35,39,40,43,45,46,50,52,53,55,60,65,70,71,75,78\n",
    "# ,80,85,90,95,98]], y[[[0,2,5,8,10,11,20,25,30,35,39,40,43,45,46,50,52,53,55,60,65,70,71,75,78\n",
    "# ,80,85,90,95,98]]],c=\"k\", label=\"data\", zorder=2)\n",
    "\n",
    "plt.scatter(X[:100],y[:100],c=\"k\", label=\"data\", zorder=1)\n",
    "plt.hold(\"on\")\n",
    "plt.plot(X_plot, y_svr, c=\"r\", label=\"SVR(fit: {0:.3f}s, predict: {1:.3f}s)\".format(svr_fit_time, svr_predict_time))\n",
    "#same as plt.plot(X_plot, y_svr, c='r',label='SVR (fit: %.3fs, predict: %.3fs)' % (svr_fit, svr_predict))\n",
    "plt.xlabel(\"data\")\n",
    "plt.ylabel(\"target\")\n",
    "plt.title(\"SVR versus Kernel Ridge\")\n",
    "plt.legend()"
   ]
  },
  {
   "cell_type": "code",
   "execution_count": 110,
   "metadata": {
    "collapsed": false
   },
   "outputs": [
    {
     "name": "stdout",
     "output_type": "stream",
     "text": [
      "{:.5f}s\n",
      "1.23000s\n"
     ]
    }
   ],
   "source": [
    "some_string=\"{:.5f}s\"\n",
    "print some_string\n",
    "formatted_string=some_string.format(1.23000000)\n",
    "print formatted_string"
   ]
  },
  {
   "cell_type": "code",
   "execution_count": 35,
   "metadata": {
    "collapsed": false
   },
   "outputs": [
    {
     "data": {
      "text/plain": [
       "0"
      ]
     },
     "execution_count": 35,
     "metadata": {},
     "output_type": "execute_result"
    }
   ],
   "source": [
    "sv_ind[0]"
   ]
  },
  {
   "cell_type": "code",
   "execution_count": 43,
   "metadata": {
    "collapsed": false
   },
   "outputs": [
    {
     "name": "stdout",
     "output_type": "stream",
     "text": [
      "[[ 2.90202915]\n",
      " [ 1.31794453]]\n",
      "[[ 2.90202915]\n",
      " [ 1.31794453]]\n"
     ]
    }
   ],
   "source": [
    "print X[sv_ind[[0,1]]]\n",
    "print X[[0,2]]"
   ]
  },
  {
   "cell_type": "code",
   "execution_count": 50,
   "metadata": {
    "collapsed": false
   },
   "outputs": [
    {
     "ename": "IndexError",
     "evalue": "index 30 is out of bounds for axis 0 with size 30",
     "output_type": "error",
     "traceback": [
      "\u001b[1;31m---------------------------------------------------------------------------\u001b[0m",
      "\u001b[1;31mIndexError\u001b[0m                                Traceback (most recent call last)",
      "\u001b[1;32m<ipython-input-50-1310e509993d>\u001b[0m in \u001b[0;36m<module>\u001b[1;34m()\u001b[0m\n\u001b[0;32m      1\u001b[0m sv_ind[[0,2,5,8,10,11,20,25,30,35,39,40,43,45,46,50,52,53,55,60,65,70,71,75,78\n\u001b[1;32m----> 2\u001b[1;33m ,80,85,90,95,98]]\n\u001b[0m",
      "\u001b[1;31mIndexError\u001b[0m: index 30 is out of bounds for axis 0 with size 30"
     ]
    }
   ],
   "source": [
    "sv_ind[[0,2,5,8,10,11,20,25,30,35,39,40,43,45,46,50,52,53,55,60,65,70,71,75,78\n",
    ",80,85,90,95,98]]"
   ]
  },
  {
   "cell_type": "code",
   "execution_count": null,
   "metadata": {
    "collapsed": true
   },
   "outputs": [],
   "source": []
  }
 ],
 "metadata": {
  "anaconda-cloud": {},
  "kernelspec": {
   "display_name": "Python [Root]",
   "language": "python",
   "name": "Python [Root]"
  },
  "language_info": {
   "codemirror_mode": {
    "name": "ipython",
    "version": 2
   },
   "file_extension": ".py",
   "mimetype": "text/x-python",
   "name": "python",
   "nbconvert_exporter": "python",
   "pygments_lexer": "ipython2",
   "version": "2.7.12"
  }
 },
 "nbformat": 4,
 "nbformat_minor": 0
}
