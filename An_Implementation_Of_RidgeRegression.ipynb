{
 "cells": [
  {
   "cell_type": "markdown",
   "metadata": {},
   "source": [
    "# やること\n",
    "\n",
    "# 関数作成\n",
    "## (X,t)を作る。\n",
    "## $\\phi_0,...,\\phi_{M-1}$を作る。\n",
    "e.g. $\\phi_0(x)=1, \\phi_1(x)=x, \\phi_2(x)=x^2,\\ldots$\n",
    "## $\\Phi$を計算する\n",
    "## $\\omega$を計算する\n",
    "\n",
    "# Cross-Validation\n",
    "\n",
    "## (X,t)をK分割する。\n",
    "## それぞれの分割kについて以下をやる。\n",
    "    ### k番目以外を使って関数を作る。\n",
    "    ### k番目を使って\n",
    "1. $(x,t)$ をプロット\n",
    "2. $(x,\\omega \\phi(x))$をプロット\n",
    "3.2乗誤差 $|\\omega \\phi(x)-t|^2$とRMS(Root mean squre) $\\sqrt{ \\sum_n |\\omega \\phi(x_n)-t_n|^2 /N_k}$を計算して評価."
   ]
  },
  {
   "cell_type": "code",
   "execution_count": null,
   "metadata": {
    "collapsed": true
   },
   "outputs": [],
   "source": []
  }
 ],
 "metadata": {
  "kernelspec": {
   "display_name": "Python [Root]",
   "language": "python",
   "name": "Python [Root]"
  },
  "language_info": {
   "codemirror_mode": {
    "name": "ipython",
    "version": 2
   },
   "file_extension": ".py",
   "mimetype": "text/x-python",
   "name": "python",
   "nbconvert_exporter": "python",
   "pygments_lexer": "ipython2",
   "version": "2.7.12"
  }
 },
 "nbformat": 4,
 "nbformat_minor": 0
}
