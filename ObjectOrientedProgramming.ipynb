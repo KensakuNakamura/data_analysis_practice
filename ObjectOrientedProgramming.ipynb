{
 "cells": [
  {
   "cell_type": "code",
   "execution_count": 26,
   "metadata": {
    "collapsed": true
   },
   "outputs": [],
   "source": [
    "class Status:\n",
    "    def __init__(self):\n",
    "        self.toxic=False\n",
    "        self.blind=False"
   ]
  },
  {
   "cell_type": "code",
   "execution_count": 27,
   "metadata": {
    "collapsed": true
   },
   "outputs": [],
   "source": [
    "class Food:\n",
    "    def __init__(self,name,energy):\n",
    "        self.name=name\n",
    "        self.energy=enegy"
   ]
  },
  {
   "cell_type": "code",
   "execution_count": null,
   "metadata": {
    "collapsed": true
   },
   "outputs": [],
   "source": []
  },
  {
   "cell_type": "code",
   "execution_count": 28,
   "metadata": {},
   "outputs": [],
   "source": [
    "class Human:\n",
    "\n",
    "    def func1():\n",
    "        return \n",
    "        \n",
    "    def __init__(self,name):\n",
    "        print(\"Human constractor called\")\n",
    "        self.name = name\n",
    "        self.age=0\n",
    "        self.hp=100\n",
    "        \n",
    "        self.status=Status()\n",
    "    \n",
    "    def introduce_self(self):\n",
    "        print \"name:\"+self.name\n",
    "\n",
    "    def eat(self,food):\n",
    "        self.hp+=food.energy\n",
    "    \n"
   ]
  },
  {
   "cell_type": "code",
   "execution_count": 29,
   "metadata": {
    "collapsed": true
   },
   "outputs": [],
   "source": [
    "class JapanesePerson(Human):\n",
    "    def __init__(self, name, mynumber=-1):\n",
    "        Human.__init__(self,name)\n",
    "        self.mynumber = mynumber\n",
    "    \n",
    "    def introduce_self(self):\n",
    "        print \"私の名前は\"+self.name+\"です。マイナンバーは\"+str(self.mynumber)+\"です。\""
   ]
  },
  {
   "cell_type": "code",
   "execution_count": 30,
   "metadata": {
    "collapsed": true
   },
   "outputs": [],
   "source": [
    "class BritishPerson(Human):\n",
    "    def __init__(self, name):\n",
    "        Human.__init__(self,name)\n",
    "\n",
    "    \n",
    "    def introduce_self(self):\n",
    "        print \"My name is \"+self.name+\".\""
   ]
  },
  {
   "cell_type": "code",
   "execution_count": 31,
   "metadata": {},
   "outputs": [],
   "source": [
    "def introduce(person):\n",
    "    if(nationality[person]==\"British\"):\n",
    "        print \"My name is \"+person.name+\".\""
   ]
  },
  {
   "cell_type": "code",
   "execution_count": 32,
   "metadata": {},
   "outputs": [
    {
     "name": "stdout",
     "output_type": "stream",
     "text": [
      "Human constractor called\n",
      "name:Kensaku\n",
      "\n",
      "Human constractor called\n",
      "私の名前はKensakuです。マイナンバーは100です。\n",
      "\n",
      "Human constractor called\n",
      "My name is Kensaku.\n"
     ]
    }
   ],
   "source": [
    "nakamura = Human(\"Kensaku\")\n",
    "nakamura.introduce_self()\n",
    "print\n",
    "\n",
    "nakamura = JapanesePerson(\"Kensaku\", 100)\n",
    "nakamura.introduce_self()\n",
    "print \n",
    "\n",
    "nakamura = BritishPerson(\"Kensaku\")\n",
    "nakamura.introduce_self()"
   ]
  },
  {
   "cell_type": "code",
   "execution_count": 7,
   "metadata": {},
   "outputs": [
    {
     "name": "stdout",
     "output_type": "stream",
     "text": [
      "default name\n"
     ]
    }
   ],
   "source": [
    "class MyClass:\n",
    "    \"\"\"A simple example class\"\"\"         # 三重クォートによるコメント\n",
    "\n",
    "    def __init__(self):                  # コンストラクタ\n",
    "        self.name = \"default name\"\n",
    "\n",
    "    def getName(self):                   # getName()メソッド\n",
    "        return self.name\n",
    "\n",
    "    def setName(self, name):             # setName()メソッド\n",
    "        self.name = name\n",
    "\n",
    "a = MyClass()                            # クラスのインスタンスを生成\n",
    "# a.setName(\"Tanaka\")                      # setName()メソッドをコール\n",
    "# print a.getName()                        # getName()メソッドをコール\n",
    "\n",
    "print a.name"
   ]
  },
  {
   "cell_type": "code",
   "execution_count": 8,
   "metadata": {},
   "outputs": [
    {
     "name": "stdout",
     "output_type": "stream",
     "text": [
      "Marge Simpson\n",
      "Homer Simpson, 1007\n"
     ]
    }
   ],
   "source": [
    "class Person:\n",
    "\n",
    "    def __init__(self, first, last):\n",
    "        self.firstname = first\n",
    "        self.lastname = last\n",
    "\n",
    "    def Name(self):\n",
    "        return self.firstname + \" \" + self.lastname\n",
    "\n",
    "class Employee(Person):\n",
    "\n",
    "    def __init__(self, first, last, staffnum):\n",
    "        Person.__init__(self,first, last)\n",
    "        self.staffnumber = staffnum\n",
    "\n",
    "    def GetEmployee(self):\n",
    "        return self.Name() + \", \" +  self.staffnumber\n",
    "\n",
    "x = Person(\"Marge\", \"Simpson\")\n",
    "y = Employee(\"Homer\", \"Simpson\", \"1007\")\n",
    "\n",
    "print(x.Name())\n",
    "print(y.GetEmployee())"
   ]
  },
  {
   "cell_type": "code",
   "execution_count": null,
   "metadata": {
    "collapsed": true
   },
   "outputs": [],
   "source": [
    "portion1 = Portion()\n",
    "portion2 = CureItem()\n",
    "\n",
    "portion.affect(nakamura)\n",
    "\n"
   ]
  },
  {
   "cell_type": "code",
   "execution_count": null,
   "metadata": {
    "collapsed": true
   },
   "outputs": [],
   "source": [
    "class Item:\n",
    "    def __init__(self,name):\n",
    "        self.name=name\n",
    "        \n",
    "    def affect(self,human):\n",
    "        return;\n",
    "    \n",
    "class CureItem(Item):\n",
    "    def __init__(self,name,cure_value=0):\n",
    "        Item.__init__(self,name)\n",
    "        self.cure_value=cure_value\n",
    "        \n",
    "        \n",
    "    def affect(self,human):\n",
    "        human.hp+=self.cure_value\n",
    "        return;\n",
    "    \n",
    "    \n",
    "class Portion(CureItem):\n",
    "    def __init__(self):\n",
    "        CureItem.__init__(self,\"portion\",cure_value=10)\n",
    "        \n",
    "class HighPortion(CureItem):\n",
    "    def __init__(self):\n",
    "        CureItem.__init__(self,\"highportion\",cure_value=100)\n",
    "        \n",
    "class DetoxPortion(CureItem):\n",
    "    def __init__(self):\n",
    "        CureItem.__init__(self,\"detoxportion\",cure_value=10)\n",
    "        \n",
    "    def affect(self,human):\n",
    "        CureItem.used(self,human)\n",
    "        human.status.toxic=False"
   ]
  }
 ],
 "metadata": {
  "anaconda-cloud": {},
  "kernelspec": {
   "display_name": "Python 3",
   "language": "python",
   "name": "python3"
  },
  "language_info": {
   "codemirror_mode": {
    "name": "ipython",
    "version": 3
   },
   "file_extension": ".py",
   "mimetype": "text/x-python",
   "name": "python",
   "nbconvert_exporter": "python",
   "pygments_lexer": "ipython3",
   "version": "3.5.3"
  }
 },
 "nbformat": 4,
 "nbformat_minor": 1
}
