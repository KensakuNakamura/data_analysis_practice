{
 "cells": [
  {
   "cell_type": "code",
   "execution_count": null,
   "metadata": {
    "collapsed": true
   },
   "outputs": [],
   "source": [
    "class Food:\n",
    "    def __init__(self,name,energy):\n",
    "        self.name=name\n",
    "        self.energy=enegy"
   ]
  },
  {
   "cell_type": "code",
   "execution_count": 140,
   "metadata": {
    "collapsed": false
   },
   "outputs": [],
   "source": [
    "class Human:\n",
    "\n",
    "    def func1():\n",
    "        return\n",
    "    \n",
    "        \n",
    "    def __init__(self,name):\n",
    "        print(\"Human constractor called\")\n",
    "        self.name = name\n",
    "        self.age=0\n",
    "        self.hp=100\n",
    "    \n",
    "    def introduce_self(self):\n",
    "        print \"name:\"+self.name\n",
    "\n",
    "    def eat(self,food):\n",
    "        self.hp+=food.energy"
   ]
  },
  {
   "cell_type": "code",
   "execution_count": 163,
   "metadata": {
    "collapsed": true
   },
   "outputs": [],
   "source": [
    "class JapanesePerson(Human):\n",
    "    def __init__(self, name, mynumber=-1):\n",
    "        Human.__init__(self,name)\n",
    "        self.mynumber = mynumber\n",
    "    \n",
    "    def introduce_self(self):\n",
    "        print \"私の名前は\"+self.name+\"です。マイナンバーは\"+str(self.mynumber)+\"です。\""
   ]
  },
  {
   "cell_type": "code",
   "execution_count": 164,
   "metadata": {
    "collapsed": true
   },
   "outputs": [],
   "source": [
    "class BritishPerson(Human):\n",
    "    def __init__(self, name):\n",
    "        Human.__init__(self,name)\n",
    "\n",
    "    \n",
    "    def introduce_self(self):\n",
    "        print \"My name is \"+self.name+\".\""
   ]
  },
  {
   "cell_type": "code",
   "execution_count": 165,
   "metadata": {
    "collapsed": false
   },
   "outputs": [
    {
     "ename": "SyntaxError",
     "evalue": "invalid syntax (<ipython-input-165-f287e803e0a8>, line 2)",
     "output_type": "error",
     "traceback": [
      "\u001b[1;36m  File \u001b[1;32m\"<ipython-input-165-f287e803e0a8>\"\u001b[1;36m, line \u001b[1;32m2\u001b[0m\n\u001b[1;33m    if(person.nationality=\"British\")\u001b[0m\n\u001b[1;37m                         ^\u001b[0m\n\u001b[1;31mSyntaxError\u001b[0m\u001b[1;31m:\u001b[0m invalid syntax\n"
     ]
    }
   ],
   "source": [
    "def introduce(person):\n",
    "    if(person.nationality=\"British\")\n",
    "        print \"My name is \"+person.name+\".\"\n",
    "    \n",
    "    "
   ]
  },
  {
   "cell_type": "code",
   "execution_count": 166,
   "metadata": {
    "collapsed": false
   },
   "outputs": [
    {
     "name": "stdout",
     "output_type": "stream",
     "text": [
      "Human constractor called\n",
      "name:Kensaku\n",
      "\n",
      "Human constractor called\n",
      "私の名前はKensakuです。マイナンバーは100です。\n",
      "\n",
      "Human constractor called\n",
      "My name is Kensaku.\n"
     ]
    }
   ],
   "source": [
    "nakamura = Human(\"Kensaku\")\n",
    "nakamura.introduce_self()\n",
    "print\n",
    "\n",
    "nakamura = JapanesePerson(\"Kensaku\", 100)\n",
    "nakamura.introduce_self()\n",
    "print \n",
    "override\n",
    "nakamura = BritishPerson(\"Kensaku\")\n",
    "nakamura.introduce_self()"
   ]
  },
  {
   "cell_type": "code",
   "execution_count": 103,
   "metadata": {
    "collapsed": false
   },
   "outputs": [
    {
     "name": "stdout",
     "output_type": "stream",
     "text": [
      "default name\n"
     ]
    }
   ],
   "source": [
    "class MyClass:\n",
    "    \"\"\"A simple example class\"\"\"         # 三重クォートによるコメント\n",
    "\n",
    "    def __init__(self):                  # コンストラクタ\n",
    "        self.name = \"default name\"\n",
    "\n",
    "    def getName(self):                   # getName()メソッド\n",
    "        return self.name\n",
    "\n",
    "    def setName(self, name):             # setName()メソッド\n",
    "        self.name = name\n",
    "\n",
    "a = MyClass()                            # クラスのインスタンスを生成\n",
    "# a.setName(\"Tanaka\")                      # setName()メソッドをコール\n",
    "# print a.getName()                        # getName()メソッドをコール\n",
    "\n",
    "print a.name"
   ]
  },
  {
   "cell_type": "code",
   "execution_count": null,
   "metadata": {
    "collapsed": true
   },
   "outputs": [],
   "source": []
  },
  {
   "cell_type": "code",
   "execution_count": 110,
   "metadata": {
    "collapsed": false
   },
   "outputs": [
    {
     "name": "stdout",
     "output_type": "stream",
     "text": [
      "Marge Simpson\n",
      "Homer Simpson, 1007\n"
     ]
    }
   ],
   "source": [
    "class Person:\n",
    "\n",
    "    def __init__(self, first, last):\n",
    "        self.firstname = first\n",
    "        self.lastname = last\n",
    "\n",
    "    def Name(self):\n",
    "        return self.firstname + \" \" + self.lastname\n",
    "\n",
    "class Employee(Person):\n",
    "\n",
    "    def __init__(self, first, last, staffnum):\n",
    "        Person.__init__(self,first, last)\n",
    "        self.staffnumber = staffnum\n",
    "\n",
    "    def GetEmployee(self):\n",
    "        return self.Name() + \", \" +  self.staffnumber\n",
    "\n",
    "x = Person(\"Marge\", \"Simpson\")\n",
    "y = Employee(\"Homer\", \"Simpson\", \"1007\")\n",
    "\n",
    "print(x.Name())\n",
    "print(y.GetEmployee())"
   ]
  },
  {
   "cell_type": "code",
   "execution_count": null,
   "metadata": {
    "collapsed": true
   },
   "outputs": [],
   "source": []
  }
 ],
 "metadata": {
  "anaconda-cloud": {},
  "kernelspec": {
   "display_name": "Python [Root]",
   "language": "python",
   "name": "Python [Root]"
  },
  "language_info": {
   "codemirror_mode": {
    "name": "ipython",
    "version": 2
   },
   "file_extension": ".py",
   "mimetype": "text/x-python",
   "name": "python",
   "nbconvert_exporter": "python",
   "pygments_lexer": "ipython2",
   "version": "2.7.12"
  }
 },
 "nbformat": 4,
 "nbformat_minor": 0
}
